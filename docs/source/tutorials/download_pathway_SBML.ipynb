{
 "cells": [
  {
   "cell_type": "markdown",
   "metadata": {},
   "source": [
    "(download_pathway_SBML)=\n",
    "\n",
    "# Download a Pathway as SBML"
   ]
  },
  {
   "cell_type": "markdown",
   "metadata": {},
   "source": [
    "In this tutorial we will show how can to export an enviPath Pathway to SBML in a few lines of code. The pathway that we will download is the [Deprenyl](https://envipath.org/package/7932e576-03c7-4106-819d-fe80dc605b8a/pathway/b21b1d65-e0d1-4060-b890-45bf3713924a) pathway from EAWAG-SLUDGE.\n",
    "\n",
    "For this tutorial we will import [libsbml](https://synonym.caltech.edu/software/libsbml/5.18.0/docs/formatted/python-api/), a Python API that facilitates the generation of SBML documents from various data formats.\n",
    "\n",
    "In the following cell we will import this package as well as enviPath_python and we will define some constants that will help us with the forecoming code. "
   ]
  },
  {
   "cell_type": "code",
   "execution_count": 1,
   "metadata": {
    "vscode": {
     "languageId": "plaintext"
    }
   },
   "outputs": [
    {
     "name": "stdout",
     "output_type": "stream",
     "text": [
      "\u001b[33mWARNING: Skipping enviPath_python as it is not installed.\u001b[0m\u001b[33m\n",
      "\u001b[0m"
     ]
    }
   ],
   "source": [
    "from libsbml import *\n",
    "from enviPath_python import enviPath\n",
    "from enviPath_python.objects import Pathway\n",
    "from enviPath_python import enums\n",
    "\n",
    "HOST_INSTANCE = \"https://envipath.org/\"\n",
    "eP = enviPath(HOST_INSTANCE)\n",
    "pwid = HOST_INSTANCE + 'package/7932e576-03c7-4106-819d-fe80dc605b8a/pathway/b21b1d65-e0d1-4060-b890-45bf3713924a' # Deprenyl sludge\n",
    "package = 'SLUDGE'\n",
    "pathway = Pathway(eP.requester, id=pwid)"
   ]
  },
  {
   "cell_type": "markdown",
   "metadata": {},
   "source": [
    "We will be using some helper functions to ensure data integrity, while following the best practices applied on the tutorial [createSimpleModel.py](https://synonym.caltech.edu/software/libsbml/5.18.0/docs/formatted/python-api/create_simple_model_8py-example.html). The helper functions are briefly described as follows:\n",
    "\n",
    "* ```check(value, message)``` method: Ensures that the method used to update the SBML document executes successfully, otherwise ```message``` will be returned.\n",
    "* ```get_xml_from_scenarios(node)``` method: allows to automatically add the additional information contained in the scenarios of a given ```node``` as SBML Annotations.\n",
    "* ```is_float(value)``` method: Returns ```True``` if the passed ```value``` is casteable as a float.\n",
    "* ```get_valid_id(ID)``` and ```get_original_id(ID)``` methods: encode and decode an enviPath-shapped URL into a SBML-valid format, respectively."
   ]
  },
  {
   "cell_type": "code",
   "execution_count": 2,
   "metadata": {},
   "outputs": [],
   "source": [
    "def check(value, message):\n",
    "    \"\"\"If 'value' is None, prints an error message constructed using\n",
    "    'message' and then exits with status code 1.  If 'value' is an integer,\n",
    "    it assumes it is a libSBML return status code.  If the code value is\n",
    "    LIBSBML_OPERATION_SUCCESS, returns without further action; if it is not,\n",
    "    prints an error message constructed using 'message' along with text from\n",
    "    libSBML explaining the meaning of the code, and exits with status code 1.\n",
    "    \"\"\"\n",
    "    if value == None:\n",
    "        raise SystemExit('LibSBML returned a null value trying to ' + message + '.')\n",
    "    elif type(value) is int:\n",
    "        if value == LIBSBML_OPERATION_SUCCESS:\n",
    "            return\n",
    "        else:\n",
    "            err_msg = 'Error encountered trying to ' + message + '.' \\\n",
    "                      + 'LibSBML returned error code ' + str(value) + ': \"' \\\n",
    "                      + OperationReturnValue_toString(value).strip() + '\"'\n",
    "            raise SystemExit(err_msg)\n",
    "    else:\n",
    "        return\n",
    "\n",
    "def get_xml_from_scenarios(node):\n",
    "    \"\"\"Parses the scenarios contained in our nodes in XML syntax\"\"\"\n",
    "    xml_string = \"\"\n",
    "    for scenario in node.get_scenarios():\n",
    "        valid_id = get_valid_id(scenario.get_id())\n",
    "        tmp_ai_string = \"\"\n",
    "        for ai in scenario.get_additional_information():\n",
    "            tmp_string = \"\"\n",
    "            for (key, value) in ai.params.items():\n",
    "                if value is None or value == \"\":\n",
    "                    continue\n",
    "                elif not is_float(value):\n",
    "                    value = get_valid_id(value)\n",
    "                tmp_string += \"<\" + key + \">\" + str(value) + \"</\" + key + \">\"\n",
    "            tmp_string = \"<\" + ai.name + \">\" + tmp_string + \"</\" + ai.name + \">\"\n",
    "            tmp_ai_string += tmp_string\n",
    "        xml_string += \"<\" + valid_id + \">\" + tmp_ai_string + \"</\" + valid_id + \">\"\n",
    "    if xml_string != \"\":\n",
    "        xml_string = \"<scenarios>\" + xml_string + \"</scenarios>\"\n",
    "    return xml_string\n",
    "\n",
    "\n",
    "def is_float(value):\n",
    "    \"\"\"Whether the value can be casted as float or not\"\"\"\n",
    "    try:\n",
    "        float(value)\n",
    "        return True\n",
    "    except ValueError:\n",
    "        return False\n",
    "\n",
    "\n",
    "def get_valid_id(ID):\n",
    "    \"\"\"Parses the ID to replace non-valid-SBML characters as the only valid\n",
    "    special character '_' \"\"\"\n",
    "    ID = ID.replace(HOST_INSTANCE, \"\")\n",
    "    valid_id = \"\"\n",
    "    for char in ID:\n",
    "        if (char.isdigit() or char.isalpha()):\n",
    "            valid_id += char\n",
    "        else:\n",
    "            valid_id += \"_\"\n",
    "    return valid_id\n",
    "\n",
    "\n",
    "def get_original_id(ID):\n",
    "    \"\"\"Gets an enviPath URL that has been processed with 'get_valid_id' method\n",
    "    and return the original URL\"\"\"\n",
    "    original_id = \"\"\n",
    "    random_chars = []\n",
    "    for sequence in ID.split(\"_\"):\n",
    "        try:\n",
    "            enums.Endpoint(sequence)\n",
    "            random_chars_string = \"-\".join(random_chars)\n",
    "            if len(random_chars) > 0:\n",
    "                original_id += random_chars_string + \"/\" + sequence + \"/\"\n",
    "            else:\n",
    "                original_id += sequence + \"/\"\n",
    "            random_chars = []\n",
    "        except ValueError:\n",
    "            random_chars.append(sequence)\n",
    "    if len(random_chars) > 0:\n",
    "        original_id += \"-\".join(random_chars)\n",
    "    return HOST_INSTANCE + original_id\n"
   ]
  },
  {
   "cell_type": "markdown",
   "metadata": {},
   "source": [
    "We first will create an SBMLDocument object passing the corresponding level and version, in this tutorial we will use 2 and 1, respectively. After that one must create a model and set its Id, which should be unique for the whole SBML Document.\n",
    "\n",
    "Eventually the compartment must be created. A compartment can be understood as the matrix where the chemicals interact with each other. In our case we define this to be a the Deprenyl pathway, because all biodegradation reactions are happening under the same conditions. A compartment has 2 mandatory parameters:\n",
    "* An Id, which has to be unique for the whole SBML Document\n",
    "* A boolean named Constant, which defines whether the compartment changes over time\n",
    "\n",
    "A more detailed explanation those objects can be found on the SBML website of [Model](https://synonym.caltech.edu/software/libsbml/5.18.0/docs/formatted/python-api/classlibsbml_1_1_model.html) and [Compartment](https://synonym.caltech.edu/software/libsbml/5.18.0/docs/formatted/python-api/classlibsbml_1_1_compartment.html)"
   ]
  },
  {
   "cell_type": "code",
   "execution_count": 3,
   "metadata": {},
   "outputs": [],
   "source": [
    "document = SBMLDocument(2, 1) # (SBML level, version)\n",
    "\n",
    "model = document.createModel()\n",
    "check(model, 'create model')\n",
    "check(model.setId(\"My_Pathway\"), \"name Model as 'My_Pathway'\")\n",
    "\n",
    "# Create compartment\n",
    "c1 = model.createCompartment()\n",
    "compartment_id = get_valid_id(pathway.get_id())\n",
    "check(c1, 'create compartment')\n",
    "check(c1.setId(compartment_id), 'set compartment id')\n",
    "# Mandatory on version 3\n",
    "# check(c1.setConstant(True), 'set compartment \"constant\"')"
   ]
  },
  {
   "cell_type": "markdown",
   "metadata": {},
   "source": [
    "With a compartment created we can start adding species and reactions to it. With enviPath-python it is very easy to achieve this, we will loop over each node on a pathway using ```pathway.get_nodes()``` and we will extract the URL of the node, the name, the external references to PubChem, KEGG and ChEBI and the information stored on all the scenarios using the methods, ```node.get_id()``` (and the helper function ```get_valid_id(ID)```), ```node.get_name()```, ```structure.get_pubchem_references()``` and ```structure.get_external_references()```, and the helper function ```get_xml_from_scenarios(node)```, respectively.\n",
    "\n",
    "A SBML Species has a set of mandatory fields to be set, these are:\n",
    "* The ID: a unique identifier for the whole SBML Document\n",
    "* On SBML version 3:\n",
    "    * The boolean HasOnlySubstanceUnits: which states whether there are only substances\n",
    "    * The boolean setConstant and setBoundaryCondition: which determines whether and how the quantity of that species can vary during a simulation\n",
    "\n",
    "More parameters are accepted by SBML and the methods to set them and their descriptions can be found on the [SBML Species page](https://synonym.caltech.edu/software/libsbml/5.18.0/docs/formatted/python-api/classlibsbml_1_1_species.html)"
   ]
  },
  {
   "cell_type": "code",
   "execution_count": 4,
   "metadata": {
    "tags": [
     "hide-output"
    ]
   },
   "outputs": [],
   "source": [
    "# Create species\n",
    "for node in pathway.get_nodes():\n",
    "    cpd = model.createSpecies()\n",
    "    name = node.get_name()\n",
    "    ID = get_valid_id(node.get_id())\n",
    "    \n",
    "    check(cpd, 'create compound {}'.format(name))\n",
    "    check(cpd.setName(name), 'set name {}'.format(name))\n",
    "    # Mandatory:\n",
    "    check(cpd.setId(ID),'set id {}'.format(ID))\n",
    "    check(cpd.setMetaId(ID),'set id {}'.format(ID))\n",
    "    check(cpd.setCompartment(compartment_id), 'set compartment')\n",
    "    # Mandatory on version 3\n",
    "    # check(cpd.setBoundaryCondition(True),     'set \"boundaryCondition\"')\n",
    "    # check(cpd.setConstant(True), 'set compartment \"constant\"')\n",
    "    # check(cpd.setHasOnlySubstanceUnits(False), 'set \"hasOnlySubstanceUnits\"')\n",
    "\n",
    "    structure = node.get_default_structure()\n",
    "\n",
    "    for link in structure.get_pubchem_references():\n",
    "        cv = CVTerm()\n",
    "        check(cv.setQualifierType(BIOLOGICAL_QUALIFIER), \"Adding the type of qualifier\")\n",
    "        check(cv.setBiologicalQualifierType(BQB_IS_VERSION_OF), \"Adding the biological qualifier type\")\n",
    "        check(cv.addResource(link), \"Adding the resource to the CV\")\n",
    "        check(cpd.addCVTerm(cv), \"Adding CV to the corresponding substance\")\n",
    "\n",
    "    for links in structure.get_external_references().values():\n",
    "        for link in links:\n",
    "            cv = CVTerm()\n",
    "            check(cv.setQualifierType(BIOLOGICAL_QUALIFIER), \"Adding the type of qualifier\")\n",
    "            check(cv.setBiologicalQualifierType(BQB_IS_VERSION_OF), \"Adding the biological qualifier type\")\n",
    "            check(cv.addResource(link), \"Adding the resource to the CV\")\n",
    "            check(cpd.addCVTerm(cv), \"Adding CV to the corresponding substance\")\n",
    "\n",
    "\n",
    "    xml_string = get_xml_from_scenarios(node)\n",
    "    attribute_xml = XMLNode.convertStringToXMLNode(xml_string)\n",
    "    check(cpd.appendAnnotation(attribute_xml), 'set annotation')\n",
    "\n"
   ]
  },
  {
   "cell_type": "markdown",
   "metadata": {},
   "source": [
    "Finally we add the reactions of the pathway using the method ```pathway.get_edges()``` and adding the information stored in there in SBML Reaction objects. There are a few mandatory fields for a Reaction and additional ones can be set as explained on the [SBML Reaction page](https://synonym.caltech.edu/software/libsbml/5.18.0/docs/formatted/python-api/classlibsbml_1_1_reaction.html), in this tutorial we will set:\n",
    "* The ID: as explained before, this is a unique identifier for the SBML Document\n",
    "* For version 3:\n",
    "    * The boolean setReversible: to indicate whether the reaction is reversible or not\n",
    "    * The boolean setFast: indicates whether a reaction occurs on a vastly faster time scale than others in the system."
   ]
  },
  {
   "cell_type": "code",
   "execution_count": 5,
   "metadata": {},
   "outputs": [],
   "source": [
    "# Create reactions\n",
    "reaction_ids = []\n",
    "for edge in pathway.get_edges():\n",
    "    rxn_id = get_valid_id(edge.get_id())\n",
    "\n",
    "    r = model.createReaction()\n",
    "    check(r, 'create reaction')\n",
    "    check(r.setId(rxn_id), 'set reaction id')\n",
    "    check(r.setMetaId(rxn_id),'set id {}'.format(rxn_id))\n",
    "    check(r.setName(get_valid_id(edge.get_name())), 'set reaction name')\n",
    "    # Mandatory on version 3\n",
    "    # check(r.setReversible(False), 'set reaction reversibility flag')\n",
    "    # check(r.setFast(False), 'set reaction \"fast\" attribute')\n",
    "\n",
    "    # Substrates\n",
    "    for reactant_node in edge.get_start_nodes():\n",
    "        reactant = r.createReactant()\n",
    "        check(reactant, 'create reactant')\n",
    "        check(reactant.setSpecies(get_valid_id(reactant_node.get_id())), 'assign reactant species')\n",
    "        # Mandatory on version 3\n",
    "        # check(reactant.setConstant(True), 'set \"constant\" on reactant')\n",
    "\n",
    "    # Products\n",
    "    for product_node in edge.get_end_nodes():\n",
    "        product = r.createProduct()\n",
    "        check(product, 'create product')\n",
    "        check(product.setSpecies(get_valid_id(product_node.get_id())), 'assign product species')\n",
    "        # Mandatory on version 3\n",
    "        # check(product.setConstant(True), 'set \"constant\" on product')\n",
    "\n",
    "    # Rhea references\n",
    "    for link in edge.get_reaction().get_rhea_references():\n",
    "        cv = CVTerm()\n",
    "        check(cv.setQualifierType(BIOLOGICAL_QUALIFIER), \"Adding the type of qualifier\")\n",
    "        check(cv.setBiologicalQualifierType(BQB_IS_VERSION_OF), \"Adding the biological qualifier type\")\n",
    "        check(cv.addResource(link), \"Adding the resource to the CV\")\n",
    "        check(cpd.addCVTerm(cv), \"Adding CV to the corresponding substance\")\n"
   ]
  },
  {
   "cell_type": "markdown",
   "metadata": {},
   "source": [
    "libsbml enables to save the generated document on .sbml file on a straight-forward manner, as shown below"
   ]
  },
  {
   "cell_type": "code",
   "execution_count": 6,
   "metadata": {},
   "outputs": [
    {
     "data": {
      "text/plain": [
       "1"
      ]
     },
     "execution_count": 6,
     "metadata": {},
     "output_type": "execute_result"
    }
   ],
   "source": [
    "filename = f'pathway_{get_valid_id(pathway.get_name())}.sbml'\n",
    "writeSBMLToFile(document, filename)"
   ]
  },
  {
   "cell_type": "markdown",
   "metadata": {},
   "source": [
    "After this tutorial we have been able to write a syntactically correct SBML file, this however does not mean that the SBML file is valid. We follow the [validateSBML.py](https://synonym.caltech.edu/software/libsbml/5.18.0/docs/formatted/python-api/validate_s_b_m_l_8py-example.html) tutorial to ensure that no core errors exists in our SBML file."
   ]
  },
  {
   "cell_type": "code",
   "execution_count": 25,
   "metadata": {},
   "outputs": [],
   "source": [
    "sbmlDoc  = readSBML(filename)\n",
    "errors   = sbmlDoc.getNumErrors()\n",
    "\n",
    "seriousErrors = False\n",
    "numReadErr  = 0\n",
    "numReadWarn = 0\n",
    "errMsgRead  = \"\"\n",
    "\n",
    "if errors > 0:\n",
    "    print(f\"The SBML file contains {len(errors)} errors\")\n",
    "    for i in range(errors):\n",
    "        severity = sbmlDoc.getError(i).getSeverity()\n",
    "        if (severity == LIBSBML_SEV_ERROR) or (severity == LIBSBML_SEV_FATAL):\n",
    "            seriousErrors = True\n",
    "            numReadErr += 1\n",
    "        else:\n",
    "            numReadWarn += 1\n",
    "        errMsgRead = sbmlDoc.getErrorLog().toString()\n",
    "        for message in errMsgRead.split(\"\\n\\n\"):\n",
    "            print(message + \"\\n\")"
   ]
  },
  {
   "cell_type": "markdown",
   "metadata": {},
   "source": [
    "And finally we can check whether some minor warnings are found"
   ]
  },
  {
   "cell_type": "code",
   "execution_count": 27,
   "metadata": {},
   "outputs": [
    {
     "name": "stdout",
     "output_type": "stream",
     "text": [
      "line 5: (80501 [Warning]) As a principle of best modeling practice, the size of a <compartment> should be set to a value rather than be left undefined. Doing so improves the portability of models between different simulation and analysis systems, and helps make it easier to detect potential errors in models.\n",
      " The <compartment> with the id 'package_7932e576_03c7_4106_819d_fe80dc605b8a_pathway_b21b1d65_e0d1_4060_b890_45bf3713924a' does not have a 'size' attribute, nor is its initial value set by an <initialAssignment> or <assignmentRule>.\n",
      "\n",
      "line 8: (80601 [Warning]) As a principle of best modeling practice, the <species> should set an initial value (amount or concentration) rather than be left undefined. Doing so improves the portability of models between different simulation and analysis systems, and helps make it easier to detect potential errors in models.\n",
      " The <species> with the id 'package_7932e576_03c7_4106_819d_fe80dc605b8a_pathway_b21b1d65_e0d1_4060_b890_45bf3713924a_node_97edb6b1_3dda_4c73_89a0_1a1d9f6d95c8' does not have an 'initialConcentration' or 'initialAmount' attribute, nor is its initial value set by an <initialAssignment> or <assignmentRule>.\n",
      "\n",
      "line 91: (80601 [Warning]) As a principle of best modeling practice, the <species> should set an initial value (amount or concentration) rather than be left undefined. Doing so improves the portability of models between different simulation and analysis systems, and helps make it easier to detect potential errors in models.\n",
      " The <species> with the id 'package_7932e576_03c7_4106_819d_fe80dc605b8a_pathway_b21b1d65_e0d1_4060_b890_45bf3713924a_node_ca6c81fa_2c27_4650_8925_78b9a487ffe1' does not have an 'initialConcentration' or 'initialAmount' attribute, nor is its initial value set by an <initialAssignment> or <assignmentRule>.\n",
      "\n",
      "line 174: (80601 [Warning]) As a principle of best modeling practice, the <species> should set an initial value (amount or concentration) rather than be left undefined. Doing so improves the portability of models between different simulation and analysis systems, and helps make it easier to detect potential errors in models.\n",
      " The <species> with the id 'package_7932e576_03c7_4106_819d_fe80dc605b8a_pathway_b21b1d65_e0d1_4060_b890_45bf3713924a_node_c41850f6_6826_45b6_ade8_c9bb90fe8e8b' does not have an 'initialConcentration' or 'initialAmount' attribute, nor is its initial value set by an <initialAssignment> or <assignmentRule>.\n",
      "\n",
      "line 257: (80601 [Warning]) As a principle of best modeling practice, the <species> should set an initial value (amount or concentration) rather than be left undefined. Doing so improves the portability of models between different simulation and analysis systems, and helps make it easier to detect potential errors in models.\n",
      " The <species> with the id 'package_7932e576_03c7_4106_819d_fe80dc605b8a_pathway_b21b1d65_e0d1_4060_b890_45bf3713924a_node_0d36bada_1d91_4cad_8660_b5c8184da110' does not have an 'initialConcentration' or 'initialAmount' attribute, nor is its initial value set by an <initialAssignment> or <assignmentRule>.\n",
      "\n",
      "line 340: (80601 [Warning]) As a principle of best modeling practice, the <species> should set an initial value (amount or concentration) rather than be left undefined. Doing so improves the portability of models between different simulation and analysis systems, and helps make it easier to detect potential errors in models.\n",
      " The <species> with the id 'package_7932e576_03c7_4106_819d_fe80dc605b8a_pathway_b21b1d65_e0d1_4060_b890_45bf3713924a_node_bd568328_003f_4645_ab9f_2fd4a0927ae0' does not have an 'initialConcentration' or 'initialAmount' attribute, nor is its initial value set by an <initialAssignment> or <assignmentRule>.\n",
      "\n",
      "line 423: (80601 [Warning]) As a principle of best modeling practice, the <species> should set an initial value (amount or concentration) rather than be left undefined. Doing so improves the portability of models between different simulation and analysis systems, and helps make it easier to detect potential errors in models.\n",
      " The <species> with the id 'package_7932e576_03c7_4106_819d_fe80dc605b8a_pathway_b21b1d65_e0d1_4060_b890_45bf3713924a_node_8e895627_e58b_422a_8482_5a21098f007e' does not have an 'initialConcentration' or 'initialAmount' attribute, nor is its initial value set by an <initialAssignment> or <assignmentRule>.\n",
      "\n",
      "line 506: (80601 [Warning]) As a principle of best modeling practice, the <species> should set an initial value (amount or concentration) rather than be left undefined. Doing so improves the portability of models between different simulation and analysis systems, and helps make it easier to detect potential errors in models.\n",
      " The <species> with the id 'package_7932e576_03c7_4106_819d_fe80dc605b8a_pathway_b21b1d65_e0d1_4060_b890_45bf3713924a_node_d7cccc60_6c42_4418_a0c8_60631a35b275' does not have an 'initialConcentration' or 'initialAmount' attribute, nor is its initial value set by an <initialAssignment> or <assignmentRule>.\n",
      "\n",
      "line 816: (80601 [Warning]) As a principle of best modeling practice, the <species> should set an initial value (amount or concentration) rather than be left undefined. Doing so improves the portability of models between different simulation and analysis systems, and helps make it easier to detect potential errors in models.\n",
      " The <species> with the id 'package_7932e576_03c7_4106_819d_fe80dc605b8a_pathway_b21b1d65_e0d1_4060_b890_45bf3713924a_node_6a8f948e_fd6b_4cee_8fea_60d1204901e1' does not have an 'initialConcentration' or 'initialAmount' attribute, nor is its initial value set by an <initialAssignment> or <assignmentRule>.\n",
      "\n",
      "\n",
      "\n"
     ]
    }
   ],
   "source": [
    "failures = sbmlDoc.checkConsistency()\n",
    "\n",
    "numCCErr  = 0\n",
    "numCCWarn = 0\n",
    "if failures > 0:\n",
    "    isinvalid = False\n",
    "    for i in range(failures):\n",
    "        severity = sbmlDoc.getError(i).getSeverity()\n",
    "        if (severity == LIBSBML_SEV_ERROR) or (severity == LIBSBML_SEV_FATAL):\n",
    "            isinvalid = True\n",
    "        else:\n",
    "            numCCWarn += 1\n",
    "        if isinvalid:\n",
    "            self.numinvalid += 1\n",
    "    \n",
    "    errMsgCC = sbmlDoc.getErrorLog().toString()\n",
    "    for message in errMsgCC.split(\"\\n\\n\"):\n",
    "        print(message + \"\\n\")\n",
    "        "
   ]
  },
  {
   "cell_type": "code",
   "execution_count": null,
   "metadata": {},
   "outputs": [],
   "source": []
  }
 ],
 "metadata": {
  "kernelspec": {
   "display_name": "Python 3 (ipykernel)",
   "language": "python",
   "name": "python3"
  },
  "language_info": {
   "codemirror_mode": {
    "name": "ipython",
    "version": 3
   },
   "file_extension": ".py",
   "mimetype": "text/x-python",
   "name": "python",
   "nbconvert_exporter": "python",
   "pygments_lexer": "ipython3",
   "version": "3.8.0"
  }
 },
 "nbformat": 4,
 "nbformat_minor": 4
}
