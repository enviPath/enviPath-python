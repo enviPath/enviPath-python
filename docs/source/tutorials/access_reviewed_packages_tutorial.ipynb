{
 "cells": [
  {
   "cell_type": "markdown",
   "id": "ffa58b7f",
   "metadata": {},
   "source": [
    "# Accessing reviewed packages"
   ]
  },
  {
   "cell_type": "code",
   "execution_count": 6,
   "id": "b41f9b33",
   "metadata": {},
   "outputs": [],
   "source": [
    "from enviPath_python.enviPath import *"
   ]
  },
  {
   "cell_type": "code",
   "execution_count": 5,
   "id": "0a6b73fe",
   "metadata": {},
   "outputs": [
    {
     "name": "stdout",
     "output_type": "stream",
     "text": [
      "Pathway (+)-Camphor can be found on: https://envipath.org/package/32de3cf4-e3e6-4168-956e-32fa5ddb0ce1/pathway/8ee9cf25-ece9-4c21-886c-23936be81f30\n",
      "Pathway 1,1,1-Trichloro-2,2-bis-(4`-chlorophenyl)ethane (DDT) can be found on: https://envipath.org/package/32de3cf4-e3e6-4168-956e-32fa5ddb0ce1/pathway/3f58e4d4-1c63-4b30-bf31-7ae4b98899fe\n",
      "Pathway 1,1,1-Trichloro-2,2-bis-(4`-chlorophenyl)ethane (DDT) (anaerobic) can be found on: https://envipath.org/package/32de3cf4-e3e6-4168-956e-32fa5ddb0ce1/pathway/dcbf59e3-8c18-4bf3-af65-5aea763f4190\n",
      "Pathway 1,1,1-Trichloroethane (an/aerobic) can be found on: https://envipath.org/package/32de3cf4-e3e6-4168-956e-32fa5ddb0ce1/pathway/f1aa12e8-f2be-4f22-918a-b3a2a13170d1\n",
      "Pathway 1,2,3-Tribromopropane can be found on: https://envipath.org/package/32de3cf4-e3e6-4168-956e-32fa5ddb0ce1/pathway/7afd54ce-fad0-4f3d-a3f8-e05d9ec96eaa\n"
     ]
    }
   ],
   "source": [
    "HOST_INSTANCE = \"https://envipath.org\"\n",
    "EAWAG_BBD_URL = \"https://envipath.org/package/32de3cf4-e3e6-4168-956e-32fa5ddb0ce1\"\n",
    "eP = enviPath(HOST_INSTANCE)\n",
    "pkg = Package(eP.requester, id=EAWAG_BBD_URL)\n",
    "selected_pathways = pkg.get_pathways()[:5]\n",
    "for pathway in selected_pathways:\n",
    "    print(f\"Pathway {pathway.get_name()} can be found on: {pathway.get_id()}\")"
   ]
  },
  {
   "cell_type": "code",
   "execution_count": null,
   "id": "f42e8dbe",
   "metadata": {},
   "outputs": [],
   "source": []
  }
 ],
 "metadata": {
  "kernelspec": {
   "display_name": "Python 3 (ipykernel)",
   "language": "python",
   "name": "python3"
  },
  "language_info": {
   "codemirror_mode": {
    "name": "ipython",
    "version": 3
   },
   "file_extension": ".py",
   "mimetype": "text/x-python",
   "name": "python",
   "nbconvert_exporter": "python",
   "pygments_lexer": "ipython3",
   "version": "3.11.5"
  }
 },
 "nbformat": 4,
 "nbformat_minor": 5
}
