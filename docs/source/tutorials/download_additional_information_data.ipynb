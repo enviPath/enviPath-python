{
 "cells": [
  {
   "cell_type": "markdown",
   "id": "658a9f29",
   "metadata": {},
   "source": [
    "(download_additional_information_data)=\n",
    "\n",
    "# Download Additional Information data"
   ]
  },
  {
   "cell_type": "markdown",
   "id": "65da837c",
   "metadata": {},
   "source": [
    "In this tutorial we will show how can one access the additional information data that is stored in each scenario for a given package. To first show a concrete example, we will do this for [Atenonlol Pathway](https://envipath.org/package/7932e576-03c7-4106-819d-fe80dc605b8a/pathway/9b9e978e-8e31-427b-a75e-8ac1813612d8). In particular, we will access one scenario contained in Atenolol acid and extract all the metadata contained in it. Afterwards we will show the code that one can use to extend it this process to a whole package. Eventually we will explore the distribution of the location metadata for this package.\n",
    "\n",
    "We first import the relevant enviPath objects for this tutorial"
   ]
  },
  {
   "cell_type": "code",
   "execution_count": 1,
   "id": "68f83fd1",
   "metadata": {},
   "outputs": [],
   "source": [
    "from enviPath_python.enviPath import enviPath\n",
    "from enviPath_python.objects import *\n",
    "\n",
    "import pandas as pd"
   ]
  },
  {
   "cell_type": "markdown",
   "id": "253f9e71",
   "metadata": {},
   "source": [
    "As in other tutorials, we instantiate the host and the package we want to work with"
   ]
  },
  {
   "cell_type": "code",
   "execution_count": 2,
   "id": "6fcf56ab",
   "metadata": {},
   "outputs": [],
   "source": [
    "INSTANCE_HOST = \"https://envipath.org/\"\n",
    "EAWAG_SLUDGE_DATA_PACKAGE = \"https://envipath.org/package/7932e576-03c7-4106-819d-fe80dc605b8a\"\n",
    "\n",
    "eP = enviPath(INSTANCE_HOST)\n",
    "pkg = Package(eP.requester, id=EAWAG_SLUDGE_DATA_PACKAGE)"
   ]
  },
  {
   "cell_type": "markdown",
   "id": "cfe33bb4",
   "metadata": {},
   "source": [
    "As discussed, we will access the metadata contained on Atenolol pathway and display it"
   ]
  },
  {
   "cell_type": "code",
   "execution_count": 3,
   "id": "34076949",
   "metadata": {},
   "outputs": [
    {
     "name": "stdout",
     "output_type": "stream",
     "text": [
      "In this first example, we will explore the metadata contained in https://envipath.org/package/7932e576-03c7-4106-819d-fe80dc605b8a/scenario/527e4bc8-ca4e-4810-b91d-6bd8abde89da, \n",
      "with name Helbling et al., 2012 (DOM5) - (00000)\n",
      "The Additional Information named acidity\n",
      "Has params: {'lowPh': '8.1', 'highPh': '8.1', 'acidityType': '', 'unit': 'pH'}\n",
      "The Additional Information named biologicaltreatmenttechnology\n",
      "Has params: {'biologicaltreatmenttechnology': 'nitrification & denitrification', 'unit': ''}\n",
      "The Additional Information named bioreactor\n",
      "Has params: {'bioreactortype': 'amber glass Schott bottles (loosely capped)', 'bioreactorsize': '100.0', 'unit': 'mL'}\n",
      "The Additional Information named finalcompoundconcentration\n",
      "Has params: {'finalcompoundconcentration': '100', 'unit': '&#956g/L'}\n",
      "The Additional Information named inoculumsource\n",
      "Has params: {'inoculumsource': 'activated sludge from biological aeration basin', 'unit': ''}\n",
      "The Additional Information named location\n",
      "Has params: {'location': 'Switzerland (DOM5)', 'unit': ''}\n",
      "The Additional Information named nitrogencontent\n",
      "Has params: {'nitrogencontentType': 'NH&#8324-N', 'nitrogencontentInfluent': '26.2', 'unit': 'mg/L'}\n",
      "The Additional Information named originalsludgeamount\n",
      "Has params: {'originalsludgeamount': '70', 'unit': 'mL'}\n",
      "The Additional Information named phosphoruscontent\n",
      "Has params: {'phosphoruscontentInfluent': '5.0', 'phosphoruscontentEffluent': '', 'unit': 'mg/L'}\n",
      "The Additional Information named purposeofwwtp\n",
      "Has params: {'purposeofwwtp': 'municipal WW', 'unit': ''}\n",
      "The Additional Information named redox\n",
      "Has params: {'redoxType': 'aerob', 'unit': ''}\n",
      "The Additional Information named sludgeretentiontime\n",
      "Has params: {'sludgeretentiontimeType': 'sludge retention time', 'sludgeretentiontime': '20.5', 'unit': 'd'}\n",
      "The Additional Information named solventforcompoundsolution\n",
      "Has params: {'solventforcompoundsolution1': 'MeOH', 'solventforcompoundsolution2': None, 'solventforcompoundsolution3': None, 'unit': ''}\n",
      "The Additional Information named sourceofliquidmatrix\n",
      "Has params: {'sourceofliquidmatrix': 'none (sludge only)', 'unit': ''}\n",
      "The Additional Information named temperature\n",
      "Has params: {'temperatureMin': '20.0', 'temperatureMax': '20.0', 'unit': '&#176;C'}\n",
      "The Additional Information named tts\n",
      "Has params: {'ttsStart': '2.2', 'ttsEnd': '2.2', 'unit': 'g/L'}\n",
      "The Additional Information named typeofaddition\n",
      "Has params: {'typeofaddition': 'plating', 'unit': ''}\n",
      "The Additional Information named typeofaeration\n",
      "Has params: {'typeofaeration': 'shaking', 'unit': ''}\n"
     ]
    }
   ],
   "source": [
    "atenolol_pathway = eP.search(\"Atenolol\", pkg)[\"pathway\"][0]\n",
    "node = atenolol_pathway.get_nodes()[0]\n",
    "scenario = node.get_scenarios()[0]\n",
    "print(f\"In this first example, we will explore the metadata contained in {scenario.get_id()}, \")\n",
    "print(f\"with name {scenario.get_name()}\")\n",
    "additional_information_list = scenario.get_additional_information()\n",
    "additional_information_data = {}\n",
    "for ai in additional_information_list:\n",
    "    print(f\"The Additional Information named {ai.name}\")\n",
    "    print(f\"Has params: {ai.params}\")\n",
    "    additional_information_data[ai.name] = ai.params\n",
    "df = pd.Series(additional_information_data, name=scenario.get_name())"
   ]
  },
  {
   "cell_type": "markdown",
   "id": "9f6ffc22",
   "metadata": {},
   "source": [
    "In the following lines of code, we show how to extract all the metadata of a package, the lines are commented out to reduce the amount of requests and computation time. The user can download this tutorial on the upper-right corner and test those lines by themselves if desired. The underlying logic can be described as follows:\n",
    "\n",
    "1. Declare a `data` list where we will store all the information retrieved\n",
    "2. Loop over each node on a pathway\n",
    "    1. Extract all the scenarios\n",
    "    2. For each scenario, get all the experimental data (additional information) and store it on the data \n",
    "    list together with its SMILES, node, scenario and pathway IDs and the scenario description\n",
    "3. Create a pandas DataFrame and use it to generate a .csv file with all the extracted data"
   ]
  },
  {
   "cell_type": "code",
   "execution_count": 4,
   "id": "3eb60776",
   "metadata": {},
   "outputs": [
    {
     "data": {
      "text/html": [
       "<div>\n",
       "<style scoped>\n",
       "    .dataframe tbody tr th:only-of-type {\n",
       "        vertical-align: middle;\n",
       "    }\n",
       "\n",
       "    .dataframe tbody tr th {\n",
       "        vertical-align: top;\n",
       "    }\n",
       "\n",
       "    .dataframe thead th {\n",
       "        text-align: right;\n",
       "    }\n",
       "</style>\n",
       "<table border=\"1\" class=\"dataframe\">\n",
       "  <thead>\n",
       "    <tr style=\"text-align: right;\">\n",
       "      <th></th>\n",
       "      <th>smiles</th>\n",
       "      <th>node_id</th>\n",
       "      <th>scenario_id</th>\n",
       "      <th>scenario_description</th>\n",
       "      <th>pathway_id</th>\n",
       "      <th>acidity_lowPh</th>\n",
       "      <th>acidity_highPh</th>\n",
       "      <th>acidity_acidityType</th>\n",
       "      <th>acidity_unit</th>\n",
       "      <th>biologicaltreatmenttechnology_biologicaltreatmenttechnology</th>\n",
       "      <th>...</th>\n",
       "      <th>oxygendemand_oxygendemandType</th>\n",
       "      <th>oxygendemand_oxygendemandInfluent</th>\n",
       "      <th>oxygendemand_oxygendemandEffluent</th>\n",
       "      <th>oxygendemand_unit</th>\n",
       "      <th>dissolvedorganiccarbon_dissolvedorganiccarbonStart</th>\n",
       "      <th>dissolvedorganiccarbon_dissolvedorganiccarbonEnd</th>\n",
       "      <th>dissolvedorganiccarbon_unit</th>\n",
       "      <th>volatiletts_volatilettsStart</th>\n",
       "      <th>volatiletts_volatilettsEnd</th>\n",
       "      <th>volatiletts_unit</th>\n",
       "    </tr>\n",
       "  </thead>\n",
       "  <tbody>\n",
       "    <tr>\n",
       "      <th>0</th>\n",
       "      <td>C1=CC(=C(C=C1)N2CCNCC2)Cl</td>\n",
       "      <td>https://envipath.org/package/7932e576-03c7-410...</td>\n",
       "      <td>https://envipath.org/package/7932e576-03c7-410...</td>\n",
       "      <td>no description</td>\n",
       "      <td>https://envipath.org/package/7932e576-03c7-410...</td>\n",
       "      <td>8.1</td>\n",
       "      <td>8.1</td>\n",
       "      <td>NaN</td>\n",
       "      <td>pH</td>\n",
       "      <td>nitrification &amp; denitrification &amp; biological p...</td>\n",
       "      <td>...</td>\n",
       "      <td>NaN</td>\n",
       "      <td>NaN</td>\n",
       "      <td>NaN</td>\n",
       "      <td>NaN</td>\n",
       "      <td>NaN</td>\n",
       "      <td>NaN</td>\n",
       "      <td>NaN</td>\n",
       "      <td>NaN</td>\n",
       "      <td>NaN</td>\n",
       "      <td>NaN</td>\n",
       "    </tr>\n",
       "    <tr>\n",
       "      <th>1</th>\n",
       "      <td>C1=CC(=C(C=C1)N2CCNCC2)Cl</td>\n",
       "      <td>https://envipath.org/package/7932e576-03c7-410...</td>\n",
       "      <td>https://envipath.org/package/7932e576-03c7-410...</td>\n",
       "      <td>no description</td>\n",
       "      <td>https://envipath.org/package/7932e576-03c7-410...</td>\n",
       "      <td>6.3</td>\n",
       "      <td>6.3</td>\n",
       "      <td>NaN</td>\n",
       "      <td>pH</td>\n",
       "      <td>nitrification &amp; denitrification &amp; biological p...</td>\n",
       "      <td>...</td>\n",
       "      <td>NaN</td>\n",
       "      <td>NaN</td>\n",
       "      <td>NaN</td>\n",
       "      <td>NaN</td>\n",
       "      <td>NaN</td>\n",
       "      <td>NaN</td>\n",
       "      <td>NaN</td>\n",
       "      <td>NaN</td>\n",
       "      <td>NaN</td>\n",
       "      <td>NaN</td>\n",
       "    </tr>\n",
       "    <tr>\n",
       "      <th>2</th>\n",
       "      <td>C1=CC(=C(C=C1)N2CCNCC2)Cl</td>\n",
       "      <td>https://envipath.org/package/7932e576-03c7-410...</td>\n",
       "      <td>https://envipath.org/package/7932e576-03c7-410...</td>\n",
       "      <td>no description</td>\n",
       "      <td>https://envipath.org/package/7932e576-03c7-410...</td>\n",
       "      <td>7.1</td>\n",
       "      <td>7.1</td>\n",
       "      <td>NaN</td>\n",
       "      <td>pH</td>\n",
       "      <td>nitrification &amp; denitrification &amp; biological p...</td>\n",
       "      <td>...</td>\n",
       "      <td>NaN</td>\n",
       "      <td>NaN</td>\n",
       "      <td>NaN</td>\n",
       "      <td>NaN</td>\n",
       "      <td>NaN</td>\n",
       "      <td>NaN</td>\n",
       "      <td>NaN</td>\n",
       "      <td>NaN</td>\n",
       "      <td>NaN</td>\n",
       "      <td>NaN</td>\n",
       "    </tr>\n",
       "    <tr>\n",
       "      <th>3</th>\n",
       "      <td>CC12CCC3C4=CC=C(C=C4CCC3C2CCC1=O)O</td>\n",
       "      <td>https://envipath.org/package/7932e576-03c7-410...</td>\n",
       "      <td>https://envipath.org/package/7932e576-03c7-410...</td>\n",
       "      <td>https://doi.org/10.1023/A:1014117329403</td>\n",
       "      <td>https://envipath.org/package/7932e576-03c7-410...</td>\n",
       "      <td>NaN</td>\n",
       "      <td>NaN</td>\n",
       "      <td>NaN</td>\n",
       "      <td>NaN</td>\n",
       "      <td>NaN</td>\n",
       "      <td>...</td>\n",
       "      <td>NaN</td>\n",
       "      <td>NaN</td>\n",
       "      <td>NaN</td>\n",
       "      <td>NaN</td>\n",
       "      <td>NaN</td>\n",
       "      <td>NaN</td>\n",
       "      <td>NaN</td>\n",
       "      <td>NaN</td>\n",
       "      <td>NaN</td>\n",
       "      <td>NaN</td>\n",
       "    </tr>\n",
       "    <tr>\n",
       "      <th>4</th>\n",
       "      <td>CC12CCC3C4=CC=C(C=C4CCC3C2CCC1=O)O</td>\n",
       "      <td>https://envipath.org/package/7932e576-03c7-410...</td>\n",
       "      <td>https://envipath.org/package/7932e576-03c7-410...</td>\n",
       "      <td>https://doi.org/10.1023/A:1014117329403</td>\n",
       "      <td>https://envipath.org/package/7932e576-03c7-410...</td>\n",
       "      <td>NaN</td>\n",
       "      <td>NaN</td>\n",
       "      <td>NaN</td>\n",
       "      <td>NaN</td>\n",
       "      <td>NaN</td>\n",
       "      <td>...</td>\n",
       "      <td>NaN</td>\n",
       "      <td>NaN</td>\n",
       "      <td>NaN</td>\n",
       "      <td>NaN</td>\n",
       "      <td>NaN</td>\n",
       "      <td>NaN</td>\n",
       "      <td>NaN</td>\n",
       "      <td>NaN</td>\n",
       "      <td>NaN</td>\n",
       "      <td>NaN</td>\n",
       "    </tr>\n",
       "  </tbody>\n",
       "</table>\n",
       "<p>5 rows × 93 columns</p>\n",
       "</div>"
      ],
      "text/plain": [
       "                               smiles  \\\n",
       "0           C1=CC(=C(C=C1)N2CCNCC2)Cl   \n",
       "1           C1=CC(=C(C=C1)N2CCNCC2)Cl   \n",
       "2           C1=CC(=C(C=C1)N2CCNCC2)Cl   \n",
       "3  CC12CCC3C4=CC=C(C=C4CCC3C2CCC1=O)O   \n",
       "4  CC12CCC3C4=CC=C(C=C4CCC3C2CCC1=O)O   \n",
       "\n",
       "                                             node_id  \\\n",
       "0  https://envipath.org/package/7932e576-03c7-410...   \n",
       "1  https://envipath.org/package/7932e576-03c7-410...   \n",
       "2  https://envipath.org/package/7932e576-03c7-410...   \n",
       "3  https://envipath.org/package/7932e576-03c7-410...   \n",
       "4  https://envipath.org/package/7932e576-03c7-410...   \n",
       "\n",
       "                                         scenario_id  \\\n",
       "0  https://envipath.org/package/7932e576-03c7-410...   \n",
       "1  https://envipath.org/package/7932e576-03c7-410...   \n",
       "2  https://envipath.org/package/7932e576-03c7-410...   \n",
       "3  https://envipath.org/package/7932e576-03c7-410...   \n",
       "4  https://envipath.org/package/7932e576-03c7-410...   \n",
       "\n",
       "                      scenario_description  \\\n",
       "0                           no description   \n",
       "1                           no description   \n",
       "2                           no description   \n",
       "3  https://doi.org/10.1023/A:1014117329403   \n",
       "4  https://doi.org/10.1023/A:1014117329403   \n",
       "\n",
       "                                          pathway_id  acidity_lowPh  \\\n",
       "0  https://envipath.org/package/7932e576-03c7-410...            8.1   \n",
       "1  https://envipath.org/package/7932e576-03c7-410...            6.3   \n",
       "2  https://envipath.org/package/7932e576-03c7-410...            7.1   \n",
       "3  https://envipath.org/package/7932e576-03c7-410...            NaN   \n",
       "4  https://envipath.org/package/7932e576-03c7-410...            NaN   \n",
       "\n",
       "   acidity_highPh  acidity_acidityType acidity_unit  \\\n",
       "0             8.1                  NaN           pH   \n",
       "1             6.3                  NaN           pH   \n",
       "2             7.1                  NaN           pH   \n",
       "3             NaN                  NaN          NaN   \n",
       "4             NaN                  NaN          NaN   \n",
       "\n",
       "  biologicaltreatmenttechnology_biologicaltreatmenttechnology  ...  \\\n",
       "0  nitrification & denitrification & biological p...           ...   \n",
       "1  nitrification & denitrification & biological p...           ...   \n",
       "2  nitrification & denitrification & biological p...           ...   \n",
       "3                                                NaN           ...   \n",
       "4                                                NaN           ...   \n",
       "\n",
       "   oxygendemand_oxygendemandType oxygendemand_oxygendemandInfluent  \\\n",
       "0                            NaN                               NaN   \n",
       "1                            NaN                               NaN   \n",
       "2                            NaN                               NaN   \n",
       "3                            NaN                               NaN   \n",
       "4                            NaN                               NaN   \n",
       "\n",
       "  oxygendemand_oxygendemandEffluent oxygendemand_unit  \\\n",
       "0                               NaN               NaN   \n",
       "1                               NaN               NaN   \n",
       "2                               NaN               NaN   \n",
       "3                               NaN               NaN   \n",
       "4                               NaN               NaN   \n",
       "\n",
       "   dissolvedorganiccarbon_dissolvedorganiccarbonStart  \\\n",
       "0                                                NaN    \n",
       "1                                                NaN    \n",
       "2                                                NaN    \n",
       "3                                                NaN    \n",
       "4                                                NaN    \n",
       "\n",
       "  dissolvedorganiccarbon_dissolvedorganiccarbonEnd  \\\n",
       "0                                              NaN   \n",
       "1                                              NaN   \n",
       "2                                              NaN   \n",
       "3                                              NaN   \n",
       "4                                              NaN   \n",
       "\n",
       "  dissolvedorganiccarbon_unit  volatiletts_volatilettsStart  \\\n",
       "0                         NaN                           NaN   \n",
       "1                         NaN                           NaN   \n",
       "2                         NaN                           NaN   \n",
       "3                         NaN                           NaN   \n",
       "4                         NaN                           NaN   \n",
       "\n",
       "  volatiletts_volatilettsEnd  volatiletts_unit  \n",
       "0                        NaN               NaN  \n",
       "1                        NaN               NaN  \n",
       "2                        NaN               NaN  \n",
       "3                        NaN               NaN  \n",
       "4                        NaN               NaN  \n",
       "\n",
       "[5 rows x 93 columns]"
      ]
     },
     "execution_count": 4,
     "metadata": {},
     "output_type": "execute_result"
    }
   ],
   "source": [
    "\n",
    "# data = []\n",
    "\n",
    "# for path in pkg.get_pathways():\n",
    "#     for node in path.get_nodes():\n",
    "#         scenarios = node.get_scenarios()\n",
    "#         for scenario in scenarios:\n",
    "#             temp_data = {\"smiles\": node.get_smiles(), \"node_id\": node.get_id(), \n",
    "#                          \"scenario_id\": scenario.get_id(), \"scenario_description\": scenario.get_description(),\n",
    "#                          \"pathway_id\": path.get_id()}\n",
    "#             temp_add_info = scenario.get_additional_information()\n",
    "#             for ai in temp_add_info:\n",
    "#                 add_info = {ai.name + \"_\" + key: value for (key,value) in ai.params.items()}\n",
    "#                 temp_data.update(add_info)\n",
    "#             data.append(temp_data)\n",
    "            \n",
    "# # save data\n",
    "# raw_data = pd.DataFrame(data)\n",
    "# raw_data.to_csv(\"../assets/additional_information_data.csv\", sep='\\t', index=False)\n",
    "raw_data = pd.read_csv(\"../assets/additional_information_data.csv\", sep=\"\\t\")\n",
    "raw_data.head()"
   ]
  },
  {
   "cell_type": "markdown",
   "id": "01cb3164",
   "metadata": {},
   "source": [
    "Finally, we use the extracted data to analyze the locations of each experiment in EAWAG-SLUDGE. To do this we map similar locations to a common name, i.e. (Dübendorf, WWTP Duebendorf (ARA Neugut), Switzerland, ...) -> Dübendorf, Switzerland"
   ]
  },
  {
   "cell_type": "code",
   "execution_count": 6,
   "id": "23b01eee",
   "metadata": {
    "tags": [
     "hide-input"
    ]
   },
   "outputs": [
    {
     "data": {
      "application/vnd.plotly.v1+json": {
       "config": {
        "plotlyServerURL": "https://plot.ly"
       },
       "data": [
        {
         "domain": {
          "x": [
           0,
           1
          ],
          "y": [
           0,
           1
          ]
         },
         "hovertemplate": "location=%{label}<br>count=%{value}<extra></extra>",
         "labels": [
          "Amherst (NY), USA",
          "Amherst, NY, USA",
          "Athens (Greece)",
          "Burlington (Ontario)",
          "Dübendorf, Switzerland",
          "Germany",
          "Germany, near Frankfurt/Main",
          "New York State",
          "Rubi (Barcelona), Spain",
          "Slovenia",
          "Switzerland (IND, DOM)",
          "Tokyo, Japan",
          "WWTP of Koblenz (Germany)",
          "WWTP of the University of Aegean, Lesvos "
         ],
         "legendgroup": "",
         "name": "",
         "showlegend": true,
         "type": "pie",
         "values": [
          18,
          6,
          15,
          15,
          729,
          57,
          17,
          246,
          16,
          28,
          244,
          10,
          15,
          8
         ]
        }
       ],
       "layout": {
        "height": 500,
        "legend": {
         "tracegroupgap": 0
        },
        "template": {
         "data": {
          "bar": [
           {
            "error_x": {
             "color": "#2a3f5f"
            },
            "error_y": {
             "color": "#2a3f5f"
            },
            "marker": {
             "line": {
              "color": "#E5ECF6",
              "width": 0.5
             },
             "pattern": {
              "fillmode": "overlay",
              "size": 10,
              "solidity": 0.2
             }
            },
            "type": "bar"
           }
          ],
          "barpolar": [
           {
            "marker": {
             "line": {
              "color": "#E5ECF6",
              "width": 0.5
             },
             "pattern": {
              "fillmode": "overlay",
              "size": 10,
              "solidity": 0.2
             }
            },
            "type": "barpolar"
           }
          ],
          "carpet": [
           {
            "aaxis": {
             "endlinecolor": "#2a3f5f",
             "gridcolor": "white",
             "linecolor": "white",
             "minorgridcolor": "white",
             "startlinecolor": "#2a3f5f"
            },
            "baxis": {
             "endlinecolor": "#2a3f5f",
             "gridcolor": "white",
             "linecolor": "white",
             "minorgridcolor": "white",
             "startlinecolor": "#2a3f5f"
            },
            "type": "carpet"
           }
          ],
          "choropleth": [
           {
            "colorbar": {
             "outlinewidth": 0,
             "ticks": ""
            },
            "type": "choropleth"
           }
          ],
          "contour": [
           {
            "colorbar": {
             "outlinewidth": 0,
             "ticks": ""
            },
            "colorscale": [
             [
              0,
              "#0d0887"
             ],
             [
              0.1111111111111111,
              "#46039f"
             ],
             [
              0.2222222222222222,
              "#7201a8"
             ],
             [
              0.3333333333333333,
              "#9c179e"
             ],
             [
              0.4444444444444444,
              "#bd3786"
             ],
             [
              0.5555555555555556,
              "#d8576b"
             ],
             [
              0.6666666666666666,
              "#ed7953"
             ],
             [
              0.7777777777777778,
              "#fb9f3a"
             ],
             [
              0.8888888888888888,
              "#fdca26"
             ],
             [
              1,
              "#f0f921"
             ]
            ],
            "type": "contour"
           }
          ],
          "contourcarpet": [
           {
            "colorbar": {
             "outlinewidth": 0,
             "ticks": ""
            },
            "type": "contourcarpet"
           }
          ],
          "heatmap": [
           {
            "colorbar": {
             "outlinewidth": 0,
             "ticks": ""
            },
            "colorscale": [
             [
              0,
              "#0d0887"
             ],
             [
              0.1111111111111111,
              "#46039f"
             ],
             [
              0.2222222222222222,
              "#7201a8"
             ],
             [
              0.3333333333333333,
              "#9c179e"
             ],
             [
              0.4444444444444444,
              "#bd3786"
             ],
             [
              0.5555555555555556,
              "#d8576b"
             ],
             [
              0.6666666666666666,
              "#ed7953"
             ],
             [
              0.7777777777777778,
              "#fb9f3a"
             ],
             [
              0.8888888888888888,
              "#fdca26"
             ],
             [
              1,
              "#f0f921"
             ]
            ],
            "type": "heatmap"
           }
          ],
          "heatmapgl": [
           {
            "colorbar": {
             "outlinewidth": 0,
             "ticks": ""
            },
            "colorscale": [
             [
              0,
              "#0d0887"
             ],
             [
              0.1111111111111111,
              "#46039f"
             ],
             [
              0.2222222222222222,
              "#7201a8"
             ],
             [
              0.3333333333333333,
              "#9c179e"
             ],
             [
              0.4444444444444444,
              "#bd3786"
             ],
             [
              0.5555555555555556,
              "#d8576b"
             ],
             [
              0.6666666666666666,
              "#ed7953"
             ],
             [
              0.7777777777777778,
              "#fb9f3a"
             ],
             [
              0.8888888888888888,
              "#fdca26"
             ],
             [
              1,
              "#f0f921"
             ]
            ],
            "type": "heatmapgl"
           }
          ],
          "histogram": [
           {
            "marker": {
             "pattern": {
              "fillmode": "overlay",
              "size": 10,
              "solidity": 0.2
             }
            },
            "type": "histogram"
           }
          ],
          "histogram2d": [
           {
            "colorbar": {
             "outlinewidth": 0,
             "ticks": ""
            },
            "colorscale": [
             [
              0,
              "#0d0887"
             ],
             [
              0.1111111111111111,
              "#46039f"
             ],
             [
              0.2222222222222222,
              "#7201a8"
             ],
             [
              0.3333333333333333,
              "#9c179e"
             ],
             [
              0.4444444444444444,
              "#bd3786"
             ],
             [
              0.5555555555555556,
              "#d8576b"
             ],
             [
              0.6666666666666666,
              "#ed7953"
             ],
             [
              0.7777777777777778,
              "#fb9f3a"
             ],
             [
              0.8888888888888888,
              "#fdca26"
             ],
             [
              1,
              "#f0f921"
             ]
            ],
            "type": "histogram2d"
           }
          ],
          "histogram2dcontour": [
           {
            "colorbar": {
             "outlinewidth": 0,
             "ticks": ""
            },
            "colorscale": [
             [
              0,
              "#0d0887"
             ],
             [
              0.1111111111111111,
              "#46039f"
             ],
             [
              0.2222222222222222,
              "#7201a8"
             ],
             [
              0.3333333333333333,
              "#9c179e"
             ],
             [
              0.4444444444444444,
              "#bd3786"
             ],
             [
              0.5555555555555556,
              "#d8576b"
             ],
             [
              0.6666666666666666,
              "#ed7953"
             ],
             [
              0.7777777777777778,
              "#fb9f3a"
             ],
             [
              0.8888888888888888,
              "#fdca26"
             ],
             [
              1,
              "#f0f921"
             ]
            ],
            "type": "histogram2dcontour"
           }
          ],
          "mesh3d": [
           {
            "colorbar": {
             "outlinewidth": 0,
             "ticks": ""
            },
            "type": "mesh3d"
           }
          ],
          "parcoords": [
           {
            "line": {
             "colorbar": {
              "outlinewidth": 0,
              "ticks": ""
             }
            },
            "type": "parcoords"
           }
          ],
          "pie": [
           {
            "automargin": true,
            "type": "pie"
           }
          ],
          "scatter": [
           {
            "fillpattern": {
             "fillmode": "overlay",
             "size": 10,
             "solidity": 0.2
            },
            "type": "scatter"
           }
          ],
          "scatter3d": [
           {
            "line": {
             "colorbar": {
              "outlinewidth": 0,
              "ticks": ""
             }
            },
            "marker": {
             "colorbar": {
              "outlinewidth": 0,
              "ticks": ""
             }
            },
            "type": "scatter3d"
           }
          ],
          "scattercarpet": [
           {
            "marker": {
             "colorbar": {
              "outlinewidth": 0,
              "ticks": ""
             }
            },
            "type": "scattercarpet"
           }
          ],
          "scattergeo": [
           {
            "marker": {
             "colorbar": {
              "outlinewidth": 0,
              "ticks": ""
             }
            },
            "type": "scattergeo"
           }
          ],
          "scattergl": [
           {
            "marker": {
             "colorbar": {
              "outlinewidth": 0,
              "ticks": ""
             }
            },
            "type": "scattergl"
           }
          ],
          "scattermapbox": [
           {
            "marker": {
             "colorbar": {
              "outlinewidth": 0,
              "ticks": ""
             }
            },
            "type": "scattermapbox"
           }
          ],
          "scatterpolar": [
           {
            "marker": {
             "colorbar": {
              "outlinewidth": 0,
              "ticks": ""
             }
            },
            "type": "scatterpolar"
           }
          ],
          "scatterpolargl": [
           {
            "marker": {
             "colorbar": {
              "outlinewidth": 0,
              "ticks": ""
             }
            },
            "type": "scatterpolargl"
           }
          ],
          "scatterternary": [
           {
            "marker": {
             "colorbar": {
              "outlinewidth": 0,
              "ticks": ""
             }
            },
            "type": "scatterternary"
           }
          ],
          "surface": [
           {
            "colorbar": {
             "outlinewidth": 0,
             "ticks": ""
            },
            "colorscale": [
             [
              0,
              "#0d0887"
             ],
             [
              0.1111111111111111,
              "#46039f"
             ],
             [
              0.2222222222222222,
              "#7201a8"
             ],
             [
              0.3333333333333333,
              "#9c179e"
             ],
             [
              0.4444444444444444,
              "#bd3786"
             ],
             [
              0.5555555555555556,
              "#d8576b"
             ],
             [
              0.6666666666666666,
              "#ed7953"
             ],
             [
              0.7777777777777778,
              "#fb9f3a"
             ],
             [
              0.8888888888888888,
              "#fdca26"
             ],
             [
              1,
              "#f0f921"
             ]
            ],
            "type": "surface"
           }
          ],
          "table": [
           {
            "cells": {
             "fill": {
              "color": "#EBF0F8"
             },
             "line": {
              "color": "white"
             }
            },
            "header": {
             "fill": {
              "color": "#C8D4E3"
             },
             "line": {
              "color": "white"
             }
            },
            "type": "table"
           }
          ]
         },
         "layout": {
          "annotationdefaults": {
           "arrowcolor": "#2a3f5f",
           "arrowhead": 0,
           "arrowwidth": 1
          },
          "autotypenumbers": "strict",
          "coloraxis": {
           "colorbar": {
            "outlinewidth": 0,
            "ticks": ""
           }
          },
          "colorscale": {
           "diverging": [
            [
             0,
             "#8e0152"
            ],
            [
             0.1,
             "#c51b7d"
            ],
            [
             0.2,
             "#de77ae"
            ],
            [
             0.3,
             "#f1b6da"
            ],
            [
             0.4,
             "#fde0ef"
            ],
            [
             0.5,
             "#f7f7f7"
            ],
            [
             0.6,
             "#e6f5d0"
            ],
            [
             0.7,
             "#b8e186"
            ],
            [
             0.8,
             "#7fbc41"
            ],
            [
             0.9,
             "#4d9221"
            ],
            [
             1,
             "#276419"
            ]
           ],
           "sequential": [
            [
             0,
             "#0d0887"
            ],
            [
             0.1111111111111111,
             "#46039f"
            ],
            [
             0.2222222222222222,
             "#7201a8"
            ],
            [
             0.3333333333333333,
             "#9c179e"
            ],
            [
             0.4444444444444444,
             "#bd3786"
            ],
            [
             0.5555555555555556,
             "#d8576b"
            ],
            [
             0.6666666666666666,
             "#ed7953"
            ],
            [
             0.7777777777777778,
             "#fb9f3a"
            ],
            [
             0.8888888888888888,
             "#fdca26"
            ],
            [
             1,
             "#f0f921"
            ]
           ],
           "sequentialminus": [
            [
             0,
             "#0d0887"
            ],
            [
             0.1111111111111111,
             "#46039f"
            ],
            [
             0.2222222222222222,
             "#7201a8"
            ],
            [
             0.3333333333333333,
             "#9c179e"
            ],
            [
             0.4444444444444444,
             "#bd3786"
            ],
            [
             0.5555555555555556,
             "#d8576b"
            ],
            [
             0.6666666666666666,
             "#ed7953"
            ],
            [
             0.7777777777777778,
             "#fb9f3a"
            ],
            [
             0.8888888888888888,
             "#fdca26"
            ],
            [
             1,
             "#f0f921"
            ]
           ]
          },
          "colorway": [
           "#636efa",
           "#EF553B",
           "#00cc96",
           "#ab63fa",
           "#FFA15A",
           "#19d3f3",
           "#FF6692",
           "#B6E880",
           "#FF97FF",
           "#FECB52"
          ],
          "font": {
           "color": "#2a3f5f"
          },
          "geo": {
           "bgcolor": "white",
           "lakecolor": "white",
           "landcolor": "#E5ECF6",
           "showlakes": true,
           "showland": true,
           "subunitcolor": "white"
          },
          "hoverlabel": {
           "align": "left"
          },
          "hovermode": "closest",
          "mapbox": {
           "style": "light"
          },
          "paper_bgcolor": "white",
          "plot_bgcolor": "#E5ECF6",
          "polar": {
           "angularaxis": {
            "gridcolor": "white",
            "linecolor": "white",
            "ticks": ""
           },
           "bgcolor": "#E5ECF6",
           "radialaxis": {
            "gridcolor": "white",
            "linecolor": "white",
            "ticks": ""
           }
          },
          "scene": {
           "xaxis": {
            "backgroundcolor": "#E5ECF6",
            "gridcolor": "white",
            "gridwidth": 2,
            "linecolor": "white",
            "showbackground": true,
            "ticks": "",
            "zerolinecolor": "white"
           },
           "yaxis": {
            "backgroundcolor": "#E5ECF6",
            "gridcolor": "white",
            "gridwidth": 2,
            "linecolor": "white",
            "showbackground": true,
            "ticks": "",
            "zerolinecolor": "white"
           },
           "zaxis": {
            "backgroundcolor": "#E5ECF6",
            "gridcolor": "white",
            "gridwidth": 2,
            "linecolor": "white",
            "showbackground": true,
            "ticks": "",
            "zerolinecolor": "white"
           }
          },
          "shapedefaults": {
           "line": {
            "color": "#2a3f5f"
           }
          },
          "ternary": {
           "aaxis": {
            "gridcolor": "white",
            "linecolor": "white",
            "ticks": ""
           },
           "baxis": {
            "gridcolor": "white",
            "linecolor": "white",
            "ticks": ""
           },
           "bgcolor": "#E5ECF6",
           "caxis": {
            "gridcolor": "white",
            "linecolor": "white",
            "ticks": ""
           }
          },
          "title": {
           "x": 0.05
          },
          "xaxis": {
           "automargin": true,
           "gridcolor": "white",
           "linecolor": "white",
           "ticks": "",
           "title": {
            "standoff": 15
           },
           "zerolinecolor": "white",
           "zerolinewidth": 2
          },
          "yaxis": {
           "automargin": true,
           "gridcolor": "white",
           "linecolor": "white",
           "ticks": "",
           "title": {
            "standoff": 15
           },
           "zerolinecolor": "white",
           "zerolinewidth": 2
          }
         }
        },
        "title": {
         "text": "Location of experiments in EAWAG-SLUDGE"
        },
        "width": 900
       }
      },
      "image/png": "[encoded data removed]",
      "text/html": [
       "<div>                            <div id=\"8bc7c734-fe66-43e7-994f-5c3245d17bb5\" class=\"plotly-graph-div\" style=\"height:500px; width:900px;\"></div>            <script type=\"text/javascript\">                require([\"plotly\"], function(Plotly) {                    window.PLOTLYENV=window.PLOTLYENV || {};                                    if (document.getElementById(\"8bc7c734-fe66-43e7-994f-5c3245d17bb5\")) {                    Plotly.newPlot(                        \"8bc7c734-fe66-43e7-994f-5c3245d17bb5\",                        [{\"domain\":{\"x\":[0.0,1.0],\"y\":[0.0,1.0]},\"hovertemplate\":\"location=%{label}\\u003cbr\\u003ecount=%{value}\\u003cextra\\u003e\\u003c\\u002fextra\\u003e\",\"labels\":[\"Amherst (NY), USA\",\"Amherst, NY, USA\",\"Athens (Greece)\",\"Burlington (Ontario)\",\"D\\u00fcbendorf, Switzerland\",\"Germany\",\"Germany, near Frankfurt\\u002fMain\",\"New York State\",\"Rubi (Barcelona), Spain\",\"Slovenia\",\"Switzerland (IND, DOM)\",\"Tokyo, Japan\",\"WWTP of Koblenz (Germany)\",\"WWTP of the University of Aegean, Lesvos \"],\"legendgroup\":\"\",\"name\":\"\",\"showlegend\":true,\"values\":[18,6,15,15,729,57,17,246,16,28,244,10,15,8],\"type\":\"pie\"}],                        {\"template\":{\"data\":{\"histogram2dcontour\":[{\"type\":\"histogram2dcontour\",\"colorbar\":{\"outlinewidth\":0,\"ticks\":\"\"},\"colorscale\":[[0.0,\"#0d0887\"],[0.1111111111111111,\"#46039f\"],[0.2222222222222222,\"#7201a8\"],[0.3333333333333333,\"#9c179e\"],[0.4444444444444444,\"#bd3786\"],[0.5555555555555556,\"#d8576b\"],[0.6666666666666666,\"#ed7953\"],[0.7777777777777778,\"#fb9f3a\"],[0.8888888888888888,\"#fdca26\"],[1.0,\"#f0f921\"]]}],\"choropleth\":[{\"type\":\"choropleth\",\"colorbar\":{\"outlinewidth\":0,\"ticks\":\"\"}}],\"histogram2d\":[{\"type\":\"histogram2d\",\"colorbar\":{\"outlinewidth\":0,\"ticks\":\"\"},\"colorscale\":[[0.0,\"#0d0887\"],[0.1111111111111111,\"#46039f\"],[0.2222222222222222,\"#7201a8\"],[0.3333333333333333,\"#9c179e\"],[0.4444444444444444,\"#bd3786\"],[0.5555555555555556,\"#d8576b\"],[0.6666666666666666,\"#ed7953\"],[0.7777777777777778,\"#fb9f3a\"],[0.8888888888888888,\"#fdca26\"],[1.0,\"#f0f921\"]]}],\"heatmap\":[{\"type\":\"heatmap\",\"colorbar\":{\"outlinewidth\":0,\"ticks\":\"\"},\"colorscale\":[[0.0,\"#0d0887\"],[0.1111111111111111,\"#46039f\"],[0.2222222222222222,\"#7201a8\"],[0.3333333333333333,\"#9c179e\"],[0.4444444444444444,\"#bd3786\"],[0.5555555555555556,\"#d8576b\"],[0.6666666666666666,\"#ed7953\"],[0.7777777777777778,\"#fb9f3a\"],[0.8888888888888888,\"#fdca26\"],[1.0,\"#f0f921\"]]}],\"heatmapgl\":[{\"type\":\"heatmapgl\",\"colorbar\":{\"outlinewidth\":0,\"ticks\":\"\"},\"colorscale\":[[0.0,\"#0d0887\"],[0.1111111111111111,\"#46039f\"],[0.2222222222222222,\"#7201a8\"],[0.3333333333333333,\"#9c179e\"],[0.4444444444444444,\"#bd3786\"],[0.5555555555555556,\"#d8576b\"],[0.6666666666666666,\"#ed7953\"],[0.7777777777777778,\"#fb9f3a\"],[0.8888888888888888,\"#fdca26\"],[1.0,\"#f0f921\"]]}],\"contourcarpet\":[{\"type\":\"contourcarpet\",\"colorbar\":{\"outlinewidth\":0,\"ticks\":\"\"}}],\"contour\":[{\"type\":\"contour\",\"colorbar\":{\"outlinewidth\":0,\"ticks\":\"\"},\"colorscale\":[[0.0,\"#0d0887\"],[0.1111111111111111,\"#46039f\"],[0.2222222222222222,\"#7201a8\"],[0.3333333333333333,\"#9c179e\"],[0.4444444444444444,\"#bd3786\"],[0.5555555555555556,\"#d8576b\"],[0.6666666666666666,\"#ed7953\"],[0.7777777777777778,\"#fb9f3a\"],[0.8888888888888888,\"#fdca26\"],[1.0,\"#f0f921\"]]}],\"surface\":[{\"type\":\"surface\",\"colorbar\":{\"outlinewidth\":0,\"ticks\":\"\"},\"colorscale\":[[0.0,\"#0d0887\"],[0.1111111111111111,\"#46039f\"],[0.2222222222222222,\"#7201a8\"],[0.3333333333333333,\"#9c179e\"],[0.4444444444444444,\"#bd3786\"],[0.5555555555555556,\"#d8576b\"],[0.6666666666666666,\"#ed7953\"],[0.7777777777777778,\"#fb9f3a\"],[0.8888888888888888,\"#fdca26\"],[1.0,\"#f0f921\"]]}],\"mesh3d\":[{\"type\":\"mesh3d\",\"colorbar\":{\"outlinewidth\":0,\"ticks\":\"\"}}],\"scatter\":[{\"fillpattern\":{\"fillmode\":\"overlay\",\"size\":10,\"solidity\":0.2},\"type\":\"scatter\"}],\"parcoords\":[{\"type\":\"parcoords\",\"line\":{\"colorbar\":{\"outlinewidth\":0,\"ticks\":\"\"}}}],\"scatterpolargl\":[{\"type\":\"scatterpolargl\",\"marker\":{\"colorbar\":{\"outlinewidth\":0,\"ticks\":\"\"}}}],\"bar\":[{\"error_x\":{\"color\":\"#2a3f5f\"},\"error_y\":{\"color\":\"#2a3f5f\"},\"marker\":{\"line\":{\"color\":\"#E5ECF6\",\"width\":0.5},\"pattern\":{\"fillmode\":\"overlay\",\"size\":10,\"solidity\":0.2}},\"type\":\"bar\"}],\"scattergeo\":[{\"type\":\"scattergeo\",\"marker\":{\"colorbar\":{\"outlinewidth\":0,\"ticks\":\"\"}}}],\"scatterpolar\":[{\"type\":\"scatterpolar\",\"marker\":{\"colorbar\":{\"outlinewidth\":0,\"ticks\":\"\"}}}],\"histogram\":[{\"marker\":{\"pattern\":{\"fillmode\":\"overlay\",\"size\":10,\"solidity\":0.2}},\"type\":\"histogram\"}],\"scattergl\":[{\"type\":\"scattergl\",\"marker\":{\"colorbar\":{\"outlinewidth\":0,\"ticks\":\"\"}}}],\"scatter3d\":[{\"type\":\"scatter3d\",\"line\":{\"colorbar\":{\"outlinewidth\":0,\"ticks\":\"\"}},\"marker\":{\"colorbar\":{\"outlinewidth\":0,\"ticks\":\"\"}}}],\"scattermapbox\":[{\"type\":\"scattermapbox\",\"marker\":{\"colorbar\":{\"outlinewidth\":0,\"ticks\":\"\"}}}],\"scatterternary\":[{\"type\":\"scatterternary\",\"marker\":{\"colorbar\":{\"outlinewidth\":0,\"ticks\":\"\"}}}],\"scattercarpet\":[{\"type\":\"scattercarpet\",\"marker\":{\"colorbar\":{\"outlinewidth\":0,\"ticks\":\"\"}}}],\"carpet\":[{\"aaxis\":{\"endlinecolor\":\"#2a3f5f\",\"gridcolor\":\"white\",\"linecolor\":\"white\",\"minorgridcolor\":\"white\",\"startlinecolor\":\"#2a3f5f\"},\"baxis\":{\"endlinecolor\":\"#2a3f5f\",\"gridcolor\":\"white\",\"linecolor\":\"white\",\"minorgridcolor\":\"white\",\"startlinecolor\":\"#2a3f5f\"},\"type\":\"carpet\"}],\"table\":[{\"cells\":{\"fill\":{\"color\":\"#EBF0F8\"},\"line\":{\"color\":\"white\"}},\"header\":{\"fill\":{\"color\":\"#C8D4E3\"},\"line\":{\"color\":\"white\"}},\"type\":\"table\"}],\"barpolar\":[{\"marker\":{\"line\":{\"color\":\"#E5ECF6\",\"width\":0.5},\"pattern\":{\"fillmode\":\"overlay\",\"size\":10,\"solidity\":0.2}},\"type\":\"barpolar\"}],\"pie\":[{\"automargin\":true,\"type\":\"pie\"}]},\"layout\":{\"autotypenumbers\":\"strict\",\"colorway\":[\"#636efa\",\"#EF553B\",\"#00cc96\",\"#ab63fa\",\"#FFA15A\",\"#19d3f3\",\"#FF6692\",\"#B6E880\",\"#FF97FF\",\"#FECB52\"],\"font\":{\"color\":\"#2a3f5f\"},\"hovermode\":\"closest\",\"hoverlabel\":{\"align\":\"left\"},\"paper_bgcolor\":\"white\",\"plot_bgcolor\":\"#E5ECF6\",\"polar\":{\"bgcolor\":\"#E5ECF6\",\"angularaxis\":{\"gridcolor\":\"white\",\"linecolor\":\"white\",\"ticks\":\"\"},\"radialaxis\":{\"gridcolor\":\"white\",\"linecolor\":\"white\",\"ticks\":\"\"}},\"ternary\":{\"bgcolor\":\"#E5ECF6\",\"aaxis\":{\"gridcolor\":\"white\",\"linecolor\":\"white\",\"ticks\":\"\"},\"baxis\":{\"gridcolor\":\"white\",\"linecolor\":\"white\",\"ticks\":\"\"},\"caxis\":{\"gridcolor\":\"white\",\"linecolor\":\"white\",\"ticks\":\"\"}},\"coloraxis\":{\"colorbar\":{\"outlinewidth\":0,\"ticks\":\"\"}},\"colorscale\":{\"sequential\":[[0.0,\"#0d0887\"],[0.1111111111111111,\"#46039f\"],[0.2222222222222222,\"#7201a8\"],[0.3333333333333333,\"#9c179e\"],[0.4444444444444444,\"#bd3786\"],[0.5555555555555556,\"#d8576b\"],[0.6666666666666666,\"#ed7953\"],[0.7777777777777778,\"#fb9f3a\"],[0.8888888888888888,\"#fdca26\"],[1.0,\"#f0f921\"]],\"sequentialminus\":[[0.0,\"#0d0887\"],[0.1111111111111111,\"#46039f\"],[0.2222222222222222,\"#7201a8\"],[0.3333333333333333,\"#9c179e\"],[0.4444444444444444,\"#bd3786\"],[0.5555555555555556,\"#d8576b\"],[0.6666666666666666,\"#ed7953\"],[0.7777777777777778,\"#fb9f3a\"],[0.8888888888888888,\"#fdca26\"],[1.0,\"#f0f921\"]],\"diverging\":[[0,\"#8e0152\"],[0.1,\"#c51b7d\"],[0.2,\"#de77ae\"],[0.3,\"#f1b6da\"],[0.4,\"#fde0ef\"],[0.5,\"#f7f7f7\"],[0.6,\"#e6f5d0\"],[0.7,\"#b8e186\"],[0.8,\"#7fbc41\"],[0.9,\"#4d9221\"],[1,\"#276419\"]]},\"xaxis\":{\"gridcolor\":\"white\",\"linecolor\":\"white\",\"ticks\":\"\",\"title\":{\"standoff\":15},\"zerolinecolor\":\"white\",\"automargin\":true,\"zerolinewidth\":2},\"yaxis\":{\"gridcolor\":\"white\",\"linecolor\":\"white\",\"ticks\":\"\",\"title\":{\"standoff\":15},\"zerolinecolor\":\"white\",\"automargin\":true,\"zerolinewidth\":2},\"scene\":{\"xaxis\":{\"backgroundcolor\":\"#E5ECF6\",\"gridcolor\":\"white\",\"linecolor\":\"white\",\"showbackground\":true,\"ticks\":\"\",\"zerolinecolor\":\"white\",\"gridwidth\":2},\"yaxis\":{\"backgroundcolor\":\"#E5ECF6\",\"gridcolor\":\"white\",\"linecolor\":\"white\",\"showbackground\":true,\"ticks\":\"\",\"zerolinecolor\":\"white\",\"gridwidth\":2},\"zaxis\":{\"backgroundcolor\":\"#E5ECF6\",\"gridcolor\":\"white\",\"linecolor\":\"white\",\"showbackground\":true,\"ticks\":\"\",\"zerolinecolor\":\"white\",\"gridwidth\":2}},\"shapedefaults\":{\"line\":{\"color\":\"#2a3f5f\"}},\"annotationdefaults\":{\"arrowcolor\":\"#2a3f5f\",\"arrowhead\":0,\"arrowwidth\":1},\"geo\":{\"bgcolor\":\"white\",\"landcolor\":\"#E5ECF6\",\"subunitcolor\":\"white\",\"showland\":true,\"showlakes\":true,\"lakecolor\":\"white\"},\"title\":{\"x\":0.05},\"mapbox\":{\"style\":\"light\"}}},\"legend\":{\"tracegroupgap\":0},\"title\":{\"text\":\"Location of experiments in EAWAG-SLUDGE\"},\"height\":500,\"width\":900},                        {\"responsive\": true}                    ).then(function(){\n",
       "                            \n",
       "var gd = document.getElementById('8bc7c734-fe66-43e7-994f-5c3245d17bb5');\n",
       "var x = new MutationObserver(function (mutations, observer) {{\n",
       "        var display = window.getComputedStyle(gd).display;\n",
       "        if (!display || display === 'none') {{\n",
       "            console.log([gd, 'removed!']);\n",
       "            Plotly.purge(gd);\n",
       "            observer.disconnect();\n",
       "        }}\n",
       "}});\n",
       "\n",
       "// Listen for the removal of the full notebook cells\n",
       "var notebookContainer = gd.closest('#notebook-container');\n",
       "if (notebookContainer) {{\n",
       "    x.observe(notebookContainer, {childList: true});\n",
       "}}\n",
       "\n",
       "// Listen for the clearing of the current output cell\n",
       "var outputEl = gd.closest('.output');\n",
       "if (outputEl) {{\n",
       "    x.observe(outputEl, {childList: true});\n",
       "}}\n",
       "\n",
       "                        })                };                });            </script>        </div>"
      ]
     },
     "metadata": {},
     "output_type": "display_data"
    }
   ],
   "source": [
    "import plotly.express as px\n",
    "\n",
    "def process_location(df):\n",
    "    if pd.notna(df):\n",
    "        if \"Duebendorf\" in df or \"Dübendorf\" in df:\n",
    "            return \"Dübendorf, Switzerland\"\n",
    "        elif \"IND\" in df or \"DOM\" in df:\n",
    "            return \"Switzerland (IND, DOM)\"\n",
    "        elif \"4 parallel\" in df:\n",
    "            return df.split(\"-->\")[0]\n",
    "    return df\n",
    "\n",
    "plot_df = raw_data\n",
    "plot_df.location_location = plot_df.location_location.apply(lambda x: process_location(x))\n",
    "plot_df = plot_df[[\"smiles\", \"scenario_id\", \"location_location\"]].groupby([\"scenario_id\", \"location_location\"]).count().reset_index()[[\"location_location\", \"smiles\"]].groupby(\"location_location\").sum().reset_index()\n",
    "plot_df.rename(columns={\"location_location\": \"location\", \"smiles\": \"count\"}, inplace=True)\n",
    "px.pie(plot_df, names=\"location\", values=\"count\", title=\"Location of experiments in EAWAG-SLUDGE\",\n",
    "       width=900, height=500)"
   ]
  },
  {
   "cell_type": "markdown",
   "id": "6c428992",
   "metadata": {},
   "source": [
    "We see that there Dübendorf, Switzerland is the predominant location on our dataset. In the same way, one could analyze other relevant features, such as temperature, pH or half lives"
   ]
  },
  {
   "cell_type": "markdown",
   "id": "248b38b6",
   "metadata": {},
   "source": []
  }
 ],
 "metadata": {
  "kernelspec": {
   "display_name": "Python 3 (ipykernel)",
   "language": "python",
   "name": "python3"
  },
  "language_info": {
   "codemirror_mode": {
    "name": "ipython",
    "version": 3
   },
   "file_extension": ".py",
   "mimetype": "text/x-python",
   "name": "python",
   "nbconvert_exporter": "python",
   "pygments_lexer": "ipython3",
   "version": "3.10.14"
  }
 },
 "nbformat": 4,
 "nbformat_minor": 5
}
