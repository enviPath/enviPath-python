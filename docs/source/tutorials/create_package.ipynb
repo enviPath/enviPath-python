{
 "cells": [
  {
   "cell_type": "markdown",
   "id": "e98480e9",
   "metadata": {},
   "source": [
    "(create_package)=\n",
    "\n",
    "# Creating packages"
   ]
  },
  {
   "cell_type": "code",
   "execution_count": 2,
   "id": "1b1c7678",
   "metadata": {},
   "outputs": [],
   "source": [
    "from enviPath_python import enviPath\n",
    "from enviPath_python.objects import *"
   ]
  },
  {
   "cell_type": "markdown",
   "id": "407bac9e",
   "metadata": {},
   "source": [
    "On this tutorial we will create a package and try to replicate the [1[(4-chlorophenyl)phenylmethyl]piperazine (CPP)](https://envipath.org/package/7932e576-03c7-4106-819d-fe80dc605b8a/pathway/f6419e83-a922-484b-b4dd-341879338308) Pathway.\n",
    "\n",
    "We start by defining the enviPath class and using https://envipath.org/ as `INSTANCE_HOST`. In order to create Package we need to assign a `Group` to it, we browse over all groups available on enviPath and return the \"Anonymous\" group."
   ]
  },
  {
   "cell_type": "code",
   "execution_count": 3,
   "id": "ffb2cc99",
   "metadata": {},
   "outputs": [
    {
     "data": {
      "text/plain": [
       "'https://envipath.org/package/6e8c63f4-d1ba-4a84-a90c-0852c85157d6'"
      ]
     },
     "execution_count": 3,
     "metadata": {},
     "output_type": "execute_result"
    }
   ],
   "source": [
    "eP = enviPath(\"https://envipath.org/\")\n",
    "anonymous_group = [group for group in eP.get_groups() if \"Anonymous\" in group.get_name()][0]\n",
    "pkg = eP.create_package(\n",
    "    name=\"Test Package\", group=anonymous_group,\n",
    "    description=\"This package is created as a tutorial for enviPath-python documentation!\")\n",
    "\n",
    "pkg.get_id()"
   ]
  },
  {
   "cell_type": "markdown",
   "id": "85afa015",
   "metadata": {},
   "source": [
    "The pathway in question has 3 Nodes and 2 Edges, we add all the necessary information for the nodes and edges on lists of dictionaries and then we will loop over them to add them in the correct order. When we create the Pathway, the label `root_node_only=True` indicates that we want to add the Pathway manually, indicating as `False` would trigger a Pathway prediction."
   ]
  },
  {
   "cell_type": "code",
   "execution_count": 4,
   "id": "055df1ea",
   "metadata": {},
   "outputs": [],
   "source": [
    "node_list = [{\"smiles\": \"C1=CC=C(C=C1)C(C2=CC=C(C=C2)Cl)N3CCNCC3\", \n",
    "              \"name\": \"1[(4-chlorophenyl)phenylmethyl]piperazine\", \"confidence\": 1},\n",
    "             {\"smiles\": \"CC(=O)N1CCN(CC1)C(C2=CC=CC=C2)C3=CC=C(C=C3)Cl\", \n",
    "              \"name\": \"CPP_TP_M329\", \"confidence\": 3},\n",
    "             {\"smiles\": \"C1=CC=C(C=C1)C(C2=CC=C(C=C2)Cl)N3CCN(CC3)C(=O)CCC(=O)O\", \n",
    "              \"name\": \"CPP_TP_M387\", \"confidence\": 3}]\n",
    "\n",
    "edge_list = [{\"smirks\": \"C1=CC=C(C=C1)C(C2=CC=C(C=C2)Cl)N3CCNCC3>>CC(=O)N1CCN(CC1)C(C2=CC=CC=C2)C3=CC=C(C=C3)Cl\"}, \n",
    "             {\"smirks\": \"C1=CC=C(C=C1)C(C2=CC=C(C=C2)Cl)N3CCNCC3>>C1=CC=C(C=C1)C(C2=CC=C(C=C2)Cl)N3CCN(CC3)C(=O)CCC(=O)O\"}]\n",
    "\n",
    "pw = Pathway.create(pkg, smiles=node_list[0][\"smiles\"], \n",
    "                    name=node_list[0][\"name\"], root_node_only=True)\n",
    "\n",
    "for node_info in node_list:\n",
    "    pw.add_node(smiles=node_info[\"smiles\"],\n",
    "                    name=node_info[\"name\"])\n",
    "for edge_info in edge_list:\n",
    "    pw.add_edge(smirks=edge_info[\"smirks\"])"
   ]
  },
  {
   "cell_type": "markdown",
   "id": "c4066ffe",
   "metadata": {},
   "source": [
    "Next we want to create the scenario associated with this Pathway, and to do that we have to create a list of all the relevant `AdditionalInformation` objects. This part might look a bit tedious, but can be easily automatized when your experimental data comes from a flat file."
   ]
  },
  {
   "cell_type": "code",
   "execution_count": 5,
   "id": "aeca53de",
   "metadata": {
    "tags": [
     "hide-input"
    ]
   },
   "outputs": [
    {
     "data": {
      "text/plain": [
       "[<enviPath_python.objects.AcidityAdditionalInformation at 0x7f738e203910>,\n",
       " <enviPath_python.objects.BiologicalTreatmentTechnologyAdditionalInformation at 0x7f738e171580>,\n",
       " <enviPath_python.objects.BioreactorAdditionalInformation at 0x7f738e1712b0>,\n",
       " <enviPath_python.objects.FinalCompoundConcentrationAdditionalInformation at 0x7f738e171280>,\n",
       " <enviPath_python.objects.OriginalSludgeAmountAdditionalInformation at 0x7f738e171700>,\n",
       " <enviPath_python.objects.InoculumSourceAdditionalInformation at 0x7f738e171850>,\n",
       " <enviPath_python.objects.LocationAdditionalInformation at 0x7f738e1fd640>,\n",
       " <enviPath_python.objects.PurposeOfWWTPAdditionalInformation at 0x7f738e1fd910>,\n",
       " <enviPath_python.objects.RedoxAdditionalInformation at 0x7f738e1fd130>,\n",
       " <enviPath_python.objects.SludgeRetentionTimeAdditionalInformation at 0x7f738e1fd550>,\n",
       " <enviPath_python.objects.SolventForCompoundSolutionAdditionalInformation at 0x7f738e1fd940>,\n",
       " <enviPath_python.objects.SourceOfLiquidMatrixAdditionalInformation at 0x7f738e1fd8e0>,\n",
       " <enviPath_python.objects.TemperatureAdditionalInformation at 0x7f738e1fdc70>,\n",
       " <enviPath_python.objects.TSSAdditionInformation at 0x7f738e1ba6d0>,\n",
       " <enviPath_python.objects.TypeOfAerationAdditionalInformation at 0x7f738e1ba760>,\n",
       " <enviPath_python.objects.AerationTypeAdditionalInformation at 0x7f738e1fdbe0>,\n",
       " <enviPath_python.objects.TypeOfAdditionAdditionalInformation at 0x7f738e1ba7c0>]"
      ]
     },
     "execution_count": 5,
     "metadata": {},
     "output_type": "execute_result"
    }
   ],
   "source": [
    "additional_info_list = []\n",
    "ai = AcidityAdditionalInformation()\n",
    "ai.set_lowPh(8)\n",
    "ai.set_highPh(8)\n",
    "additional_info_list.append(ai)\n",
    "\n",
    "ai = BiologicalTreatmentTechnologyAdditionalInformation()\n",
    "ai.set_biologicaltreatmenttechnology(\"nitrification & denitrification & biological phosphorus removal\")\n",
    "additional_info_list.append(ai)\n",
    "\n",
    "ai = BioreactorAdditionalInformation()\n",
    "ai.set_bioreactortype(\"amber Schott Flask\")\n",
    "ai.set_bioreactorsize(100)\n",
    "additional_info_list.append(ai)\n",
    "\n",
    "ai = FinalCompoundConcentrationAdditionalInformation()\n",
    "ai.set_finalcompoundconcentration(120)\n",
    "additional_info_list.append(ai)\n",
    "\n",
    "ai = OriginalSludgeAmountAdditionalInformation()\n",
    "ai.set_originalsludgeamount(50)\n",
    "additional_info_list.append(ai)\n",
    "\n",
    "ai = InoculumSourceAdditionalInformation()\n",
    "ai.set_inoculumsource(\"nitrification basin\")\n",
    "additional_info_list.append(ai)\n",
    "\n",
    "ai = LocationAdditionalInformation()\n",
    "ai.set_location(\"WWTP Duebendorf (ARA Neugut) Switzerland\")\n",
    "additional_info_list.append(ai)\n",
    "\n",
    "ai = PurposeOfWWTPAdditionalInformation()\n",
    "ai.set_purposeofwwtp(\"mixed WW (municipal & industrial)\")\n",
    "additional_info_list.append(ai)\n",
    "\n",
    "ai = RedoxAdditionalInformation()\n",
    "ai.set_redoxType(\"aerob\")\n",
    "additional_info_list.append(ai)\n",
    "\n",
    "ai = SludgeRetentionTimeAdditionalInformation()\n",
    "ai.set_sludgeretentiontimeType(\"sludge age\")\n",
    "ai.set_sludgeretentiontime(25)\n",
    "additional_info_list.append(ai)\n",
    "\n",
    "ai = SolventForCompoundSolutionAdditionalInformation()\n",
    "ai.set_solventforcompoundsolution1(\"MeOH\")\n",
    "additional_info_list.append(ai)\n",
    "\n",
    "ai = SourceOfLiquidMatrixAdditionalInformation()\n",
    "ai.set_sourceofliquidmatrix(\"WWTP effluent\")\n",
    "additional_info_list.append(ai)\n",
    "\n",
    "ai = TemperatureAdditionalInformation()\n",
    "ai.set_temperatureMin(20)\n",
    "ai.set_temperatureMax(20)\n",
    "additional_info_list.append(ai)\n",
    "\n",
    "ai = TSSAdditionInformation()\n",
    "ai.set_ttsStart(3.4)\n",
    "ai.set_ttsEnd(3.4)\n",
    "additional_info_list.append(ai)\n",
    "\n",
    "ai = TypeOfAerationAdditionalInformation()\n",
    "ai.set_typeofaeration(\"shaking\")\n",
    "additional_info_list.append(ai)\n",
    "\n",
    "ai = AerationTypeAdditionalInformation()\n",
    "ai.set_aerationtype(\"shaking on circulatin shaking table at 160 rpm\")\n",
    "additional_info_list.append(ai)\n",
    "\n",
    "ai = TypeOfAdditionAdditionalInformation()\n",
    "ai.set_typeofaddition(\"spiking in solvent\")\n",
    "additional_info_list.append(ai)\n",
    "additional_info_list"
   ]
  },
  {
   "cell_type": "markdown",
   "id": "bd2cfcef",
   "metadata": {},
   "source": [
    "Eventually we create a main `Scenario`, where all the common information will be added to and create 3 `ReferringScenarioAdditionalInformation` that point to the main one. This will copy all the additional information objects from the main scenario and we will only have to change the `ConfidenceLevelAdditionalInformation` object and append those to the corresponding node of the pathway."
   ]
  },
  {
   "cell_type": "code",
   "execution_count": 11,
   "id": "f9aad8f6",
   "metadata": {},
   "outputs": [
    {
     "ename": "AttributeError",
     "evalue": "'Package' object has no attribute 'id'",
     "output_type": "error",
     "traceback": [
      "\u001b[0;31m---------------------------------------------------------------------------\u001b[0m",
      "\u001b[0;31mAttributeError\u001b[0m                            Traceback (most recent call last)",
      "Cell \u001b[0;32mIn[11], line 1\u001b[0m\n\u001b[0;32m----> 1\u001b[0m main_scenario \u001b[38;5;241m=\u001b[39m \u001b[43mScenario\u001b[49m\u001b[38;5;241;43m.\u001b[39;49m\u001b[43mcreate\u001b[49m\u001b[43m(\u001b[49m\u001b[43mpkg\u001b[49m\u001b[43m,\u001b[49m\u001b[43m \u001b[49m\u001b[43madditional_information\u001b[49m\u001b[38;5;241;43m=\u001b[39;49m\u001b[43madditional_info_list\u001b[49m\u001b[43m)\u001b[49m\n\u001b[1;32m      3\u001b[0m \u001b[38;5;28;01mfor\u001b[39;00m node_info \u001b[38;5;129;01min\u001b[39;00m node_list:\n\u001b[1;32m      4\u001b[0m     node \u001b[38;5;241m=\u001b[39m [n \u001b[38;5;28;01mfor\u001b[39;00m n \u001b[38;5;129;01min\u001b[39;00m pw\u001b[38;5;241m.\u001b[39mget_nodes() \u001b[38;5;28;01mif\u001b[39;00m (node_info[\u001b[38;5;124m\"\u001b[39m\u001b[38;5;124msmiles\u001b[39m\u001b[38;5;124m\"\u001b[39m] \u001b[38;5;241m==\u001b[39m n\u001b[38;5;241m.\u001b[39mget_smiles())][\u001b[38;5;241m0\u001b[39m]\n",
      "File \u001b[0;32m~/anaconda3/envs/pepper/lib/python3.9/site-packages/enviPath_python/objects.py:761\u001b[0m, in \u001b[0;36mScenario.create\u001b[0;34m(package, name, description, date, scenariotype, additional_information, referring_scenario_id, collection_URI)\u001b[0m\n\u001b[1;32m    758\u001b[0m     scenario_payload[\u001b[38;5;124m'\u001b[39m\u001b[38;5;124mcollectionURI\u001b[39m\u001b[38;5;124m'\u001b[39m] \u001b[38;5;241m=\u001b[39m collection_URI\n\u001b[1;32m    760\u001b[0m \u001b[38;5;66;03m# post scenario to envipath\u001b[39;00m\n\u001b[0;32m--> 761\u001b[0m url \u001b[38;5;241m=\u001b[39m \u001b[38;5;124m'\u001b[39m\u001b[38;5;132;01m{}\u001b[39;00m\u001b[38;5;124m/\u001b[39m\u001b[38;5;132;01m{}\u001b[39;00m\u001b[38;5;124m'\u001b[39m\u001b[38;5;241m.\u001b[39mformat(\u001b[43mpackage\u001b[49m\u001b[38;5;241;43m.\u001b[39;49m\u001b[43mget_id\u001b[49m\u001b[43m(\u001b[49m\u001b[43m)\u001b[49m, Endpoint\u001b[38;5;241m.\u001b[39mSCENARIO\u001b[38;5;241m.\u001b[39mvalue)\n\u001b[1;32m    762\u001b[0m res \u001b[38;5;241m=\u001b[39m package\u001b[38;5;241m.\u001b[39mrequester\u001b[38;5;241m.\u001b[39mpost_request(url, payload\u001b[38;5;241m=\u001b[39mscenario_payload, allow_redirects\u001b[38;5;241m=\u001b[39m\u001b[38;5;28;01mFalse\u001b[39;00m)\n\u001b[1;32m    763\u001b[0m res\u001b[38;5;241m.\u001b[39mraise_for_status()\n",
      "File \u001b[0;32m~/anaconda3/envs/pepper/lib/python3.9/site-packages/enviPath_python/objects.py:99\u001b[0m, in \u001b[0;36menviPathObject.get_id\u001b[0;34m(self)\u001b[0m\n\u001b[1;32m     93\u001b[0m \u001b[38;5;28;01mdef\u001b[39;00m \u001b[38;5;21mget_id\u001b[39m(\u001b[38;5;28mself\u001b[39m):\n\u001b[1;32m     94\u001b[0m \u001b[38;5;250m    \u001b[39m\u001b[38;5;124;03m\"\"\"\u001b[39;00m\n\u001b[1;32m     95\u001b[0m \u001b[38;5;124;03m    Get the id of the envipath object\u001b[39;00m\n\u001b[1;32m     96\u001b[0m \n\u001b[1;32m     97\u001b[0m \u001b[38;5;124;03m    :return: The id of the object\u001b[39;00m\n\u001b[1;32m     98\u001b[0m \u001b[38;5;124;03m    \"\"\"\u001b[39;00m\n\u001b[0;32m---> 99\u001b[0m     \u001b[38;5;28;01mreturn\u001b[39;00m \u001b[38;5;28;43mself\u001b[39;49m\u001b[38;5;241;43m.\u001b[39;49m\u001b[43mid\u001b[49m\n",
      "\u001b[0;31mAttributeError\u001b[0m: 'Package' object has no attribute 'id'"
     ]
    }
   ],
   "source": [
    "main_scenario = Scenario.create(pkg, additional_information=additional_info_list)\n",
    "\n",
    "for node_info in node_list:\n",
    "    node = [n for n in pw.get_nodes() if (node_info[\"smiles\"] == n.get_smiles())][0]\n",
    "    \n",
    "    ai = ConfidenceLevelAdditionalInformation()\n",
    "    ai.set_radioconfidence(node_info[\"confidence\"])\n",
    "    \n",
    "    referral_scenario = Scenario.create(pkg, referring_scenario_id=main_scenario.get_id(), additional_information=[])\n",
    "    referral_scenario.update_scenario(additional_information=[ai])\n",
    "    node.add_scenario(referral_scenario)"
   ]
  },
  {
   "cell_type": "markdown",
   "id": "7f814405",
   "metadata": {},
   "source": [
    "Additionally one can review the amount of existing data on the given package with just a few lines of code. In this tutorial, we use [Plotly](https://plotly.com/python/) to visualize the package statistics."
   ]
  },
  {
   "cell_type": "code",
   "execution_count": 9,
   "id": "638d10f0",
   "metadata": {},
   "outputs": [
    {
     "data": {
      "application/vnd.plotly.v1+json": {
       "config": {
        "plotlyServerURL": "https://plot.ly"
       },
       "data": [
        {
         "alignmentgroup": "True",
         "hovertemplate": "Object=%{x}<br>Amount=%{y}<extra></extra>",
         "legendgroup": "Compounds",
         "marker": {
          "color": "#636efa",
          "pattern": {
           "shape": ""
          }
         },
         "name": "Compounds",
         "offsetgroup": "Compounds",
         "orientation": "v",
         "showlegend": true,
         "textposition": "auto",
         "type": "bar",
         "x": [
          "Compounds"
         ],
         "xaxis": "x",
         "y": [
          3
         ],
         "yaxis": "y"
        },
        {
         "alignmentgroup": "True",
         "hovertemplate": "Object=%{x}<br>Amount=%{y}<extra></extra>",
         "legendgroup": "Nodes",
         "marker": {
          "color": "#EF553B",
          "pattern": {
           "shape": ""
          }
         },
         "name": "Nodes",
         "offsetgroup": "Nodes",
         "orientation": "v",
         "showlegend": true,
         "textposition": "auto",
         "type": "bar",
         "x": [
          "Nodes"
         ],
         "xaxis": "x",
         "y": [
          3
         ],
         "yaxis": "y"
        },
        {
         "alignmentgroup": "True",
         "hovertemplate": "Object=%{x}<br>Amount=%{y}<extra></extra>",
         "legendgroup": "Reactions",
         "marker": {
          "color": "#00cc96",
          "pattern": {
           "shape": ""
          }
         },
         "name": "Reactions",
         "offsetgroup": "Reactions",
         "orientation": "v",
         "showlegend": true,
         "textposition": "auto",
         "type": "bar",
         "x": [
          "Reactions"
         ],
         "xaxis": "x",
         "y": [
          2
         ],
         "yaxis": "y"
        },
        {
         "alignmentgroup": "True",
         "hovertemplate": "Object=%{x}<br>Amount=%{y}<extra></extra>",
         "legendgroup": "Edges",
         "marker": {
          "color": "#ab63fa",
          "pattern": {
           "shape": ""
          }
         },
         "name": "Edges",
         "offsetgroup": "Edges",
         "orientation": "v",
         "showlegend": true,
         "textposition": "auto",
         "type": "bar",
         "x": [
          "Edges"
         ],
         "xaxis": "x",
         "y": [
          2
         ],
         "yaxis": "y"
        },
        {
         "alignmentgroup": "True",
         "hovertemplate": "Object=%{x}<br>Amount=%{y}<extra></extra>",
         "legendgroup": "Scenarios",
         "marker": {
          "color": "#FFA15A",
          "pattern": {
           "shape": ""
          }
         },
         "name": "Scenarios",
         "offsetgroup": "Scenarios",
         "orientation": "v",
         "showlegend": true,
         "textposition": "auto",
         "type": "bar",
         "x": [
          "Scenarios"
         ],
         "xaxis": "x",
         "y": [
          4
         ],
         "yaxis": "y"
        },
        {
         "alignmentgroup": "True",
         "hovertemplate": "Object=%{x}<br>Amount=%{y}<extra></extra>",
         "legendgroup": "Pathways",
         "marker": {
          "color": "#19d3f3",
          "pattern": {
           "shape": ""
          }
         },
         "name": "Pathways",
         "offsetgroup": "Pathways",
         "orientation": "v",
         "showlegend": true,
         "textposition": "auto",
         "type": "bar",
         "x": [
          "Pathways"
         ],
         "xaxis": "x",
         "y": [
          1
         ],
         "yaxis": "y"
        }
       ],
       "layout": {
        "barmode": "relative",
        "legend": {
         "title": {
          "text": "Object"
         },
         "tracegroupgap": 0
        },
        "template": {
         "data": {
          "bar": [
           {
            "error_x": {
             "color": "#2a3f5f"
            },
            "error_y": {
             "color": "#2a3f5f"
            },
            "marker": {
             "line": {
              "color": "#E5ECF6",
              "width": 0.5
             },
             "pattern": {
              "fillmode": "overlay",
              "size": 10,
              "solidity": 0.2
             }
            },
            "type": "bar"
           }
          ],
          "barpolar": [
           {
            "marker": {
             "line": {
              "color": "#E5ECF6",
              "width": 0.5
             },
             "pattern": {
              "fillmode": "overlay",
              "size": 10,
              "solidity": 0.2
             }
            },
            "type": "barpolar"
           }
          ],
          "carpet": [
           {
            "aaxis": {
             "endlinecolor": "#2a3f5f",
             "gridcolor": "white",
             "linecolor": "white",
             "minorgridcolor": "white",
             "startlinecolor": "#2a3f5f"
            },
            "baxis": {
             "endlinecolor": "#2a3f5f",
             "gridcolor": "white",
             "linecolor": "white",
             "minorgridcolor": "white",
             "startlinecolor": "#2a3f5f"
            },
            "type": "carpet"
           }
          ],
          "choropleth": [
           {
            "colorbar": {
             "outlinewidth": 0,
             "ticks": ""
            },
            "type": "choropleth"
           }
          ],
          "contour": [
           {
            "colorbar": {
             "outlinewidth": 0,
             "ticks": ""
            },
            "colorscale": [
             [
              0,
              "#0d0887"
             ],
             [
              0.1111111111111111,
              "#46039f"
             ],
             [
              0.2222222222222222,
              "#7201a8"
             ],
             [
              0.3333333333333333,
              "#9c179e"
             ],
             [
              0.4444444444444444,
              "#bd3786"
             ],
             [
              0.5555555555555556,
              "#d8576b"
             ],
             [
              0.6666666666666666,
              "#ed7953"
             ],
             [
              0.7777777777777778,
              "#fb9f3a"
             ],
             [
              0.8888888888888888,
              "#fdca26"
             ],
             [
              1,
              "#f0f921"
             ]
            ],
            "type": "contour"
           }
          ],
          "contourcarpet": [
           {
            "colorbar": {
             "outlinewidth": 0,
             "ticks": ""
            },
            "type": "contourcarpet"
           }
          ],
          "heatmap": [
           {
            "colorbar": {
             "outlinewidth": 0,
             "ticks": ""
            },
            "colorscale": [
             [
              0,
              "#0d0887"
             ],
             [
              0.1111111111111111,
              "#46039f"
             ],
             [
              0.2222222222222222,
              "#7201a8"
             ],
             [
              0.3333333333333333,
              "#9c179e"
             ],
             [
              0.4444444444444444,
              "#bd3786"
             ],
             [
              0.5555555555555556,
              "#d8576b"
             ],
             [
              0.6666666666666666,
              "#ed7953"
             ],
             [
              0.7777777777777778,
              "#fb9f3a"
             ],
             [
              0.8888888888888888,
              "#fdca26"
             ],
             [
              1,
              "#f0f921"
             ]
            ],
            "type": "heatmap"
           }
          ],
          "heatmapgl": [
           {
            "colorbar": {
             "outlinewidth": 0,
             "ticks": ""
            },
            "colorscale": [
             [
              0,
              "#0d0887"
             ],
             [
              0.1111111111111111,
              "#46039f"
             ],
             [
              0.2222222222222222,
              "#7201a8"
             ],
             [
              0.3333333333333333,
              "#9c179e"
             ],
             [
              0.4444444444444444,
              "#bd3786"
             ],
             [
              0.5555555555555556,
              "#d8576b"
             ],
             [
              0.6666666666666666,
              "#ed7953"
             ],
             [
              0.7777777777777778,
              "#fb9f3a"
             ],
             [
              0.8888888888888888,
              "#fdca26"
             ],
             [
              1,
              "#f0f921"
             ]
            ],
            "type": "heatmapgl"
           }
          ],
          "histogram": [
           {
            "marker": {
             "pattern": {
              "fillmode": "overlay",
              "size": 10,
              "solidity": 0.2
             }
            },
            "type": "histogram"
           }
          ],
          "histogram2d": [
           {
            "colorbar": {
             "outlinewidth": 0,
             "ticks": ""
            },
            "colorscale": [
             [
              0,
              "#0d0887"
             ],
             [
              0.1111111111111111,
              "#46039f"
             ],
             [
              0.2222222222222222,
              "#7201a8"
             ],
             [
              0.3333333333333333,
              "#9c179e"
             ],
             [
              0.4444444444444444,
              "#bd3786"
             ],
             [
              0.5555555555555556,
              "#d8576b"
             ],
             [
              0.6666666666666666,
              "#ed7953"
             ],
             [
              0.7777777777777778,
              "#fb9f3a"
             ],
             [
              0.8888888888888888,
              "#fdca26"
             ],
             [
              1,
              "#f0f921"
             ]
            ],
            "type": "histogram2d"
           }
          ],
          "histogram2dcontour": [
           {
            "colorbar": {
             "outlinewidth": 0,
             "ticks": ""
            },
            "colorscale": [
             [
              0,
              "#0d0887"
             ],
             [
              0.1111111111111111,
              "#46039f"
             ],
             [
              0.2222222222222222,
              "#7201a8"
             ],
             [
              0.3333333333333333,
              "#9c179e"
             ],
             [
              0.4444444444444444,
              "#bd3786"
             ],
             [
              0.5555555555555556,
              "#d8576b"
             ],
             [
              0.6666666666666666,
              "#ed7953"
             ],
             [
              0.7777777777777778,
              "#fb9f3a"
             ],
             [
              0.8888888888888888,
              "#fdca26"
             ],
             [
              1,
              "#f0f921"
             ]
            ],
            "type": "histogram2dcontour"
           }
          ],
          "mesh3d": [
           {
            "colorbar": {
             "outlinewidth": 0,
             "ticks": ""
            },
            "type": "mesh3d"
           }
          ],
          "parcoords": [
           {
            "line": {
             "colorbar": {
              "outlinewidth": 0,
              "ticks": ""
             }
            },
            "type": "parcoords"
           }
          ],
          "pie": [
           {
            "automargin": true,
            "type": "pie"
           }
          ],
          "scatter": [
           {
            "fillpattern": {
             "fillmode": "overlay",
             "size": 10,
             "solidity": 0.2
            },
            "type": "scatter"
           }
          ],
          "scatter3d": [
           {
            "line": {
             "colorbar": {
              "outlinewidth": 0,
              "ticks": ""
             }
            },
            "marker": {
             "colorbar": {
              "outlinewidth": 0,
              "ticks": ""
             }
            },
            "type": "scatter3d"
           }
          ],
          "scattercarpet": [
           {
            "marker": {
             "colorbar": {
              "outlinewidth": 0,
              "ticks": ""
             }
            },
            "type": "scattercarpet"
           }
          ],
          "scattergeo": [
           {
            "marker": {
             "colorbar": {
              "outlinewidth": 0,
              "ticks": ""
             }
            },
            "type": "scattergeo"
           }
          ],
          "scattergl": [
           {
            "marker": {
             "colorbar": {
              "outlinewidth": 0,
              "ticks": ""
             }
            },
            "type": "scattergl"
           }
          ],
          "scattermapbox": [
           {
            "marker": {
             "colorbar": {
              "outlinewidth": 0,
              "ticks": ""
             }
            },
            "type": "scattermapbox"
           }
          ],
          "scatterpolar": [
           {
            "marker": {
             "colorbar": {
              "outlinewidth": 0,
              "ticks": ""
             }
            },
            "type": "scatterpolar"
           }
          ],
          "scatterpolargl": [
           {
            "marker": {
             "colorbar": {
              "outlinewidth": 0,
              "ticks": ""
             }
            },
            "type": "scatterpolargl"
           }
          ],
          "scatterternary": [
           {
            "marker": {
             "colorbar": {
              "outlinewidth": 0,
              "ticks": ""
             }
            },
            "type": "scatterternary"
           }
          ],
          "surface": [
           {
            "colorbar": {
             "outlinewidth": 0,
             "ticks": ""
            },
            "colorscale": [
             [
              0,
              "#0d0887"
             ],
             [
              0.1111111111111111,
              "#46039f"
             ],
             [
              0.2222222222222222,
              "#7201a8"
             ],
             [
              0.3333333333333333,
              "#9c179e"
             ],
             [
              0.4444444444444444,
              "#bd3786"
             ],
             [
              0.5555555555555556,
              "#d8576b"
             ],
             [
              0.6666666666666666,
              "#ed7953"
             ],
             [
              0.7777777777777778,
              "#fb9f3a"
             ],
             [
              0.8888888888888888,
              "#fdca26"
             ],
             [
              1,
              "#f0f921"
             ]
            ],
            "type": "surface"
           }
          ],
          "table": [
           {
            "cells": {
             "fill": {
              "color": "#EBF0F8"
             },
             "line": {
              "color": "white"
             }
            },
            "header": {
             "fill": {
              "color": "#C8D4E3"
             },
             "line": {
              "color": "white"
             }
            },
            "type": "table"
           }
          ]
         },
         "layout": {
          "annotationdefaults": {
           "arrowcolor": "#2a3f5f",
           "arrowhead": 0,
           "arrowwidth": 1
          },
          "autotypenumbers": "strict",
          "coloraxis": {
           "colorbar": {
            "outlinewidth": 0,
            "ticks": ""
           }
          },
          "colorscale": {
           "diverging": [
            [
             0,
             "#8e0152"
            ],
            [
             0.1,
             "#c51b7d"
            ],
            [
             0.2,
             "#de77ae"
            ],
            [
             0.3,
             "#f1b6da"
            ],
            [
             0.4,
             "#fde0ef"
            ],
            [
             0.5,
             "#f7f7f7"
            ],
            [
             0.6,
             "#e6f5d0"
            ],
            [
             0.7,
             "#b8e186"
            ],
            [
             0.8,
             "#7fbc41"
            ],
            [
             0.9,
             "#4d9221"
            ],
            [
             1,
             "#276419"
            ]
           ],
           "sequential": [
            [
             0,
             "#0d0887"
            ],
            [
             0.1111111111111111,
             "#46039f"
            ],
            [
             0.2222222222222222,
             "#7201a8"
            ],
            [
             0.3333333333333333,
             "#9c179e"
            ],
            [
             0.4444444444444444,
             "#bd3786"
            ],
            [
             0.5555555555555556,
             "#d8576b"
            ],
            [
             0.6666666666666666,
             "#ed7953"
            ],
            [
             0.7777777777777778,
             "#fb9f3a"
            ],
            [
             0.8888888888888888,
             "#fdca26"
            ],
            [
             1,
             "#f0f921"
            ]
           ],
           "sequentialminus": [
            [
             0,
             "#0d0887"
            ],
            [
             0.1111111111111111,
             "#46039f"
            ],
            [
             0.2222222222222222,
             "#7201a8"
            ],
            [
             0.3333333333333333,
             "#9c179e"
            ],
            [
             0.4444444444444444,
             "#bd3786"
            ],
            [
             0.5555555555555556,
             "#d8576b"
            ],
            [
             0.6666666666666666,
             "#ed7953"
            ],
            [
             0.7777777777777778,
             "#fb9f3a"
            ],
            [
             0.8888888888888888,
             "#fdca26"
            ],
            [
             1,
             "#f0f921"
            ]
           ]
          },
          "colorway": [
           "#636efa",
           "#EF553B",
           "#00cc96",
           "#ab63fa",
           "#FFA15A",
           "#19d3f3",
           "#FF6692",
           "#B6E880",
           "#FF97FF",
           "#FECB52"
          ],
          "font": {
           "color": "#2a3f5f"
          },
          "geo": {
           "bgcolor": "white",
           "lakecolor": "white",
           "landcolor": "#E5ECF6",
           "showlakes": true,
           "showland": true,
           "subunitcolor": "white"
          },
          "hoverlabel": {
           "align": "left"
          },
          "hovermode": "closest",
          "mapbox": {
           "style": "light"
          },
          "paper_bgcolor": "white",
          "plot_bgcolor": "#E5ECF6",
          "polar": {
           "angularaxis": {
            "gridcolor": "white",
            "linecolor": "white",
            "ticks": ""
           },
           "bgcolor": "#E5ECF6",
           "radialaxis": {
            "gridcolor": "white",
            "linecolor": "white",
            "ticks": ""
           }
          },
          "scene": {
           "xaxis": {
            "backgroundcolor": "#E5ECF6",
            "gridcolor": "white",
            "gridwidth": 2,
            "linecolor": "white",
            "showbackground": true,
            "ticks": "",
            "zerolinecolor": "white"
           },
           "yaxis": {
            "backgroundcolor": "#E5ECF6",
            "gridcolor": "white",
            "gridwidth": 2,
            "linecolor": "white",
            "showbackground": true,
            "ticks": "",
            "zerolinecolor": "white"
           },
           "zaxis": {
            "backgroundcolor": "#E5ECF6",
            "gridcolor": "white",
            "gridwidth": 2,
            "linecolor": "white",
            "showbackground": true,
            "ticks": "",
            "zerolinecolor": "white"
           }
          },
          "shapedefaults": {
           "line": {
            "color": "#2a3f5f"
           }
          },
          "ternary": {
           "aaxis": {
            "gridcolor": "white",
            "linecolor": "white",
            "ticks": ""
           },
           "baxis": {
            "gridcolor": "white",
            "linecolor": "white",
            "ticks": ""
           },
           "bgcolor": "#E5ECF6",
           "caxis": {
            "gridcolor": "white",
            "linecolor": "white",
            "ticks": ""
           }
          },
          "title": {
           "x": 0.05
          },
          "xaxis": {
           "automargin": true,
           "gridcolor": "white",
           "linecolor": "white",
           "ticks": "",
           "title": {
            "standoff": 15
           },
           "zerolinecolor": "white",
           "zerolinewidth": 2
          },
          "yaxis": {
           "automargin": true,
           "gridcolor": "white",
           "linecolor": "white",
           "ticks": "",
           "title": {
            "standoff": 15
           },
           "zerolinecolor": "white",
           "zerolinewidth": 2
          }
         }
        },
        "title": {
         "text": "Amount of enviPath objects on the created Package"
        },
        "xaxis": {
         "anchor": "y",
         "categoryarray": [
          "Compounds",
          "Nodes",
          "Reactions",
          "Edges",
          "Scenarios",
          "Pathways"
         ],
         "categoryorder": "array",
         "domain": [
          0,
          1
         ],
         "title": {
          "text": "Object"
         }
        },
        "yaxis": {
         "anchor": "x",
         "domain": [
          0,
          1
         ],
         "title": {
          "text": "Amount"
         }
        }
       }
      }
     },
     "metadata": {},
     "output_type": "display_data"
    }
   ],
   "source": [
    "import plotly.express as px\n",
    "import pandas as pd\n",
    "\n",
    "d = {}\n",
    "d[\"Compounds\"] = len(pkg.get_compounds())\n",
    "d[\"Nodes\"] = sum([len(pw.get_nodes()) for pw in pkg.get_pathways()])\n",
    "d[\"Reactions\"] = len(pkg.get_reactions())\n",
    "d[\"Edges\"] = sum([len(pw.get_edges()) for pw in pkg.get_pathways()])\n",
    "d[\"Scenarios\"] = len(pkg.get_scenarios())\n",
    "d[\"Pathways\"] = len(pkg.get_pathways())\n",
    "\n",
    "data = pd.DataFrame(d.items(), index=range(len(d.keys())), columns=[\"Object\", \"Amount\"])\n",
    "fig = px.bar(data, x=\"Object\", y=\"Amount\", color=\"Object\", title=\"Amount of enviPath objects on the created Package\")\n",
    "fig"
   ]
  },
  {
   "cell_type": "markdown",
   "id": "6821a84d",
   "metadata": {},
   "source": [
    "To finish and data cleaness purposes, we delete the package. If you download this notebook, you can comment the line below to see the generated pathway, but please make sure to delete the package once you are finished with this tutorial."
   ]
  },
  {
   "cell_type": "code",
   "execution_count": 10,
   "id": "8a365097",
   "metadata": {},
   "outputs": [],
   "source": [
    "pkg.delete()"
   ]
  },
  {
   "cell_type": "code",
   "execution_count": null,
   "id": "0635ec1f",
   "metadata": {},
   "outputs": [],
   "source": []
  }
 ],
 "metadata": {
  "celltoolbar": "Tags",
  "kernelspec": {
   "display_name": "Python 3 (ipykernel)",
   "language": "python",
   "name": "python3"
  },
  "language_info": {
   "codemirror_mode": {
    "name": "ipython",
    "version": 3
   },
   "file_extension": ".py",
   "mimetype": "text/x-python",
   "name": "python",
   "nbconvert_exporter": "python",
   "pygments_lexer": "ipython3",
   "version": "3.9.0"
  }
 },
 "nbformat": 4,
 "nbformat_minor": 5
}
