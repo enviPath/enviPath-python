{
 "cells": [
  {
   "cell_type": "markdown",
   "id": "af0ea7a4",
   "metadata": {},
   "source": [
    "(create_package)=\n",
    "\n",
    "# Creating packages"
   ]
  },
  {
   "cell_type": "code",
   "execution_count": 24,
   "id": "c40004b9",
   "metadata": {},
   "outputs": [],
   "source": [
    "from enviPath_python import enviPath\n",
    "from enviPath_python.objects import *"
   ]
  },
  {
   "cell_type": "markdown",
   "id": "d0e5775a",
   "metadata": {},
   "source": [
    "On this tutorial we will create a package and try to replicate the [1[(4-chlorophenyl)phenylmethyl]piperazine (CPP)](https://envipath.org/package/7932e576-03c7-4106-819d-fe80dc605b8a/pathway/f6419e83-a922-484b-b4dd-341879338308) Pathway."
   ]
  },
  {
   "cell_type": "code",
   "execution_count": 36,
   "id": "f92b7025",
   "metadata": {},
   "outputs": [],
   "source": [
    "eP = enviPath(\"https://envipath.org/\")\n",
    "anonymous_group = [group for group in eP.get_groups() if \"Anonymous\" in group.get_name()][0]\n",
    "pkg = eP.create_package(\n",
    "    name=\"Test Package\", group=anonymous_group,\n",
    "    description=\"This package is created as a tutorial for enviPath-python documentation!\")"
   ]
  },
  {
   "cell_type": "code",
   "execution_count": 52,
   "id": "2eb642e5",
   "metadata": {},
   "outputs": [
    {
     "data": {
      "text/plain": [
       "'https://envipath.org/package/b1ac0067-bc3e-4e67-8a7e-43e5f8b3efe3'"
      ]
     },
     "execution_count": 52,
     "metadata": {},
     "output_type": "execute_result"
    }
   ],
   "source": [
    "node_list = [[\"C1=CC=C(C=C1)C(C2=CC=C(C=C2)Cl)N3CCNCC3\", \"1[(4-chlorophenyl)phenylmethyl]piperazine\", 1],\n",
    "             [\"CC(=O)N1CCN(CC1)C(C2=CC=CC=C2)C3=CC=C(C=C3)Cl\", \"CPP_TP_M329\", 3],\n",
    "             [\"C1=CC=C(C=C1)C(C2=CC=C(C=C2)Cl)N3CCN(CC3)C(=O)CCC(=O)O\", \"CPP_TP_M387\", 3]]\n",
    "\n",
    "pw = pkg.add_pathway(smiles=node_list[0][0],\n",
    "                        name=node_list[0][1],\n",
    "                        root_node_only=True)\n",
    "\n",
    "pw.add_node(smiles=node_list[1][0],\n",
    "            name=node_list[1][1])\n",
    "\n",
    "pw.add_node(smiles=node_list[2][0],\n",
    "            name=node_list[2][1])\n",
    "\n",
    "pw.add_edge(smirks=\"C1=CC=C(C=C1)C(C2=CC=C(C=C2)Cl)N3CCNCC3>>CC(=O)N1CCN(CC1)C(C2=CC=CC=C2)C3=CC=C(C=C3)Cl\")\n",
    "pw.add_edge(smirks=\"C1=CC=C(C=C1)C(C2=CC=C(C=C2)Cl)N3CCNCC3>>C1=CC=C(C=C1)C(C2=CC=C(C=C2)Cl)N3CCN(CC3)C(=O)CCC(=O)O\")\n",
    "\n",
    "pkg.get_id()"
   ]
  },
  {
   "cell_type": "code",
   "execution_count": 38,
   "id": "22358daf",
   "metadata": {},
   "outputs": [],
   "source": [
    "additional_info_list = []\n",
    "ai = AcidityAdditionalInformation()\n",
    "ai.set_lowPh(8)\n",
    "ai.set_highPh(8)\n",
    "additional_info_list.append(ai)\n",
    "\n",
    "ai = BiologicalTreatmentTechnologyAdditionalInformation()\n",
    "ai.set_biologicaltreatmenttechnology(\"nitrification & denitrification & biological phosphorus removal\")\n",
    "additional_info_list.append(ai)\n",
    "\n",
    "ai = BioreactorAdditionalInformation()\n",
    "ai.set_bioreactortype(\"amber Schott Flask\")\n",
    "ai.set_bioreactorsize(100)\n",
    "additional_info_list.append(ai)\n",
    "\n",
    "ai = FinalCompoundConcentrationAdditionalInformation()\n",
    "ai.set_finalcompoundconcentration(120)\n",
    "additional_info_list.append(ai)\n",
    "\n",
    "ai = OriginalSludgeAmountAdditionalInformation()\n",
    "ai.set_originalsludgeamount(50)\n",
    "additional_info_list.append(ai)\n",
    "\n",
    "ai = InoculumSourceAdditionalInformation()\n",
    "ai.set_inoculumsource(\"nitrification basin\")\n",
    "additional_info_list.append(ai)\n",
    "\n",
    "ai = LocationAdditionalInformation()\n",
    "ai.set_location(\"WWTP Duebendorf (ARA Neugut) Switzerland\")\n",
    "additional_info_list.append(ai)\n",
    "\n",
    "ai = PurposeOfWWTPAdditionalInformation()\n",
    "ai.set_purposeofwwtp(\"mixed WW (municipal & industrial)\")\n",
    "additional_info_list.append(ai)\n",
    "\n",
    "ai = RedoxAdditionalInformation()\n",
    "ai.set_redoxType(\"aerob\")\n",
    "additional_info_list.append(ai)\n",
    "\n",
    "ai = SludgeRetentionTimeAdditionalInformation()\n",
    "ai.set_sludgeretentiontimeType(\"sludge age\")\n",
    "ai.set_sludgeretentiontime(25)\n",
    "additional_info_list.append(ai)\n",
    "\n",
    "ai = SolventForCompoundSolutionAdditionalInformation()\n",
    "ai.set_solventforcompoundsolution1(\"MeOH\")\n",
    "additional_info_list.append(ai)\n",
    "\n",
    "ai = SourceOfLiquidMatrixAdditionalInformation()\n",
    "ai.set_sourceofliquidmatrix(\"WWTP effluent\")\n",
    "additional_info_list.append(ai)\n",
    "\n",
    "ai = TemperatureAdditionalInformation()\n",
    "ai.set_temperatureMin(20)\n",
    "ai.set_temperatureMax(20)\n",
    "additional_info_list.append(ai)\n",
    "\n",
    "ai = TSSAdditionInformation()\n",
    "ai.set_ttsStart(3.4)\n",
    "ai.set_ttsEnd(3.4)\n",
    "additional_info_list.append(ai)\n",
    "\n",
    "ai = TypeOfAerationAdditionalInformation()\n",
    "ai.set_typeofaeration(\"shaking\")\n",
    "additional_info_list.append(ai)\n",
    "\n",
    "ai = AerationTypeAdditionalInformation()\n",
    "ai.set_aerationtype(\"shaking on circulatin shaking table at 160 rpm\")\n",
    "additional_info_list.append(ai)\n",
    "\n",
    "ai = TypeOfAdditionAdditionalInformation()\n",
    "ai.set_typeofaddition(\"spiking in solvent\")\n",
    "additional_info_list.append(ai)"
   ]
  },
  {
   "cell_type": "code",
   "execution_count": 54,
   "id": "7f3bac1d",
   "metadata": {},
   "outputs": [],
   "source": [
    "main_scenario = Scenario.create(pkg, additional_information=additional_info_list)\n",
    "\n",
    "for values in node_list:\n",
    "    node = [node for node in pw.get_nodes() if (values[0] == node.get_smiles())][0]\n",
    "    \n",
    "    ai = ConfidenceLevelAdditionalInformation()\n",
    "    ai.set_radioconfidence(values[2])\n",
    "    \n",
    "    referral_scenario = Scenario.create(pkg, referring_scenario_id=main_scenario.get_id(), additional_information=[])\n",
    "    referral_scenario.update_scenario(additional_information=[ai])\n",
    "    node.add_scenario(referral_scenario)"
   ]
  },
  {
   "cell_type": "code",
   "execution_count": 56,
   "id": "835cf885",
   "metadata": {},
   "outputs": [],
   "source": [
    "pkg.delete()"
   ]
  },
  {
   "cell_type": "code",
   "execution_count": null,
   "id": "9749ab23",
   "metadata": {},
   "outputs": [],
   "source": []
  }
 ],
 "metadata": {
  "kernelspec": {
   "display_name": "Python 3 (ipykernel)",
   "language": "python",
   "name": "python3"
  },
  "language_info": {
   "codemirror_mode": {
    "name": "ipython",
    "version": 3
   },
   "file_extension": ".py",
   "mimetype": "text/x-python",
   "name": "python",
   "nbconvert_exporter": "python",
   "pygments_lexer": "ipython3",
   "version": "3.11.5"
  }
 },
 "nbformat": 4,
 "nbformat_minor": 5
}
