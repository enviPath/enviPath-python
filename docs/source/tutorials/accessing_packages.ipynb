{
 "cells": [
  {
   "cell_type": "markdown",
   "id": "ffa58b7f",
   "metadata": {},
   "source": [
    "(accessing_packages)=\n",
    "\n",
    "# Accessing packages"
   ]
  },
  {
   "cell_type": "code",
   "execution_count": 3,
   "id": "b41f9b33",
   "metadata": {},
   "outputs": [],
   "source": [
    "from enviPath_python.enviPath import *\n",
    "import getpass"
   ]
  },
  {
   "cell_type": "markdown",
   "id": "f537b772",
   "metadata": {},
   "source": [
    "As a first step to initialize the enviPath class, one needs to instantiate the *id*, in this case the host, from which data will be retrieved. This is set up in this way so that the user can decide which instance to use, i.e. prod, dev or for developers, their own local instance ([http://localhost:8080/](http://localhost:8080/)).\n",
    "\n",
    "Each enviPath object also requires an *id*, as you might know from the documentation or other tutorials, ids are on enviPath URLs to the corresponding object page, in the example below, since we want the data contained on EAWAG-BBD package, we will therefore use the URL to EAWAG-BBD"
   ]
  },
  {
   "cell_type": "code",
   "execution_count": 4,
   "id": "0a6b73fe",
   "metadata": {},
   "outputs": [
    {
     "name": "stdout",
     "output_type": "stream",
     "text": [
      "Pathway (+)-Camphor can be found on: https://envipath.org/package/32de3cf4-e3e6-4168-956e-32fa5ddb0ce1/pathway/8ee9cf25-ece9-4c21-886c-23936be81f30\n",
      "Pathway 1,1,1-Trichloro-2,2-bis-(4`-chlorophenyl)ethane (DDT) can be found on: https://envipath.org/package/32de3cf4-e3e6-4168-956e-32fa5ddb0ce1/pathway/3f58e4d4-1c63-4b30-bf31-7ae4b98899fe\n"
     ]
    }
   ],
   "source": [
    "HOST_INSTANCE = \"https://envipath.org\"\n",
    "EAWAG_BBD_URL = \"https://envipath.org/package/32de3cf4-e3e6-4168-956e-32fa5ddb0ce1\"\n",
    "eP = enviPath(HOST_INSTANCE)\n",
    "pkg = Package(eP.requester, id=EAWAG_BBD_URL)\n",
    "selected_pathways = pkg.get_pathways()[:2]\n",
    "for pathway in selected_pathways:\n",
    "    print(f\"Pathway {pathway.get_name()} can be found on: {pathway.get_id()}\")"
   ]
  },
  {
   "cell_type": "markdown",
   "id": "ac52947b",
   "metadata": {},
   "source": [
    "This works well for packages that are public. However, when one wants to access private data the `login` method from `enviPath` class must be invoked. We use this opportunity to recommend the usage of getpass library in order to avoid password leaks when sharing code among pears."
   ]
  },
  {
   "cell_type": "code",
   "execution_count": 9,
   "id": "7f8ce38b",
   "metadata": {},
   "outputs": [
    {
     "name": "stdout",
     "output_type": "stream",
     "text": [
      "An exception is raised due to the dummy credentials we used: Login Failed!\n"
     ]
    }
   ],
   "source": [
    "username = \"myusername\"\n",
    "password = \"mypassword\" # We recommend to use here: getpass.getpass()\n",
    "\n",
    "PRIVATE_PACKAGE_URL = \"https://envipath.org/package/8dc6c079-d43f-4eb7-afda-fcacb94699a5\"\n",
    "try:\n",
    "    eP.login(username, password)\n",
    "    pkg = Package(eP.requester, id=PRIVATE_PACKAGE_URL)\n",
    "except Exception as e:\n",
    "    print(f\"An exception is raised due to the dummy credentials we used: {e}\")"
   ]
  }
 ],
 "metadata": {
  "kernelspec": {
   "display_name": "Python 3 (ipykernel)",
   "language": "python",
   "name": "python3"
  },
  "language_info": {
   "codemirror_mode": {
    "name": "ipython",
    "version": 3
   },
   "file_extension": ".py",
   "mimetype": "text/x-python",
   "name": "python",
   "nbconvert_exporter": "python",
   "pygments_lexer": "ipython3",
   "version": "3.11.5"
  }
 },
 "nbformat": 4,
 "nbformat_minor": 5
}
